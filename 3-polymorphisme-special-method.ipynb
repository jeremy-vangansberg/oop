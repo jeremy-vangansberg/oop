{
 "cells": [
  {
   "cell_type": "markdown",
   "metadata": {},
   "source": [
    "1. Introduction\n",
    "   \n",
    "Bienvenue dans la troisième partie de notre série sur la programmation orientée objet (OOP) en Python. Dans les précédentes sections, nous avons introduit les bases de l'OOP, notamment la notion d'objet, le fonctionnement des méthodes, l'importance de __init__, le rôle de self et enfin les principes d'héritage.\n",
    "\n",
    "Dans cette partie, nous aborderons des concepts plus avancés et, avant d'entrer dans le vif du sujet, nous introduirons une nuance importante de l'héritage : l'extension des méthodes. Lorsque nous héritons d'une classe parente, il est fréquent de vouloir non seulement hériter de ses méthodes, mais aussi d'ajouter ou de modifier certaines fonctionnalités. L'extension de méthode nous permet de le faire de manière efficace.\n",
    "\n",
    "Pour illustrer ces concepts, nous suivrons le fil rouge d'une bibliothèque, un lieu où les livres, les magazines et les utilisateurs interagissent. Dans ce contexte, nous exploiterons le potentiel de l'OOP pour modéliser les diverses entités et fonctionnalités d'une bibliothèque.\n",
    "\n",
    "Le contexte : Une bibliothèque moderne\n",
    "\n",
    "Dans notre bibliothèque moderne, nous avons :\n",
    "\n",
    "Livres : Chaque livre a un titre, un auteur, un ISBN, et une date de publication.\n",
    "\n",
    "Magazines : Les magazines, similaires aux livres, ont un titre, un éditeur, un numéro d'édition, et une date de publication.\n",
    "\n",
    "Utilisateurs : Chaque utilisateur a un nom, un numéro d'identification, et peut emprunter des éléments de la bibliothèque.\n",
    "\n"
   ]
  },
  {
   "cell_type": "markdown",
   "metadata": {},
   "source": []
  },
  {
   "cell_type": "code",
   "execution_count": null,
   "metadata": {},
   "outputs": [],
   "source": [
    "class ItemBibliothèque:\n",
    "    def __init__(self, titre, date_publication):\n",
    "        self.titre = titre\n",
    "        self.date_publication = date_publication\n",
    "\n",
    "class Livre(ItemBibliothèque):\n",
    "    def __init__(self, titre, date_publication, auteur, ISBN):\n",
    "        ItemBibliothèque.__init__(self, titre, date_publication) # Extension de la méthode __init__ de la classe parente\n",
    "        self.auteur = auteur\n",
    "        self.ISBN = ISBN\n",
    "\n",
    "class Magazine(ItemBibliothèque):\n",
    "    def __init__(self, titre, date_publication, editeur, numero_edition):\n",
    "        ItemBibliothèque.__init__(self, titre, date_publication) # Extension de la méthode __init__ de la classe parente\n",
    "        self.editeur = editeur\n",
    "        self.numero_edition = numero_edition\n",
    "\n",
    "class Utilisateur:\n",
    "    def __init__(self, nom, numero_id):\n",
    "        self.nom = nom\n",
    "        self.numero_id = numero_id\n",
    "        self.emprunts = []\n",
    "\n",
    "    def emprunter(self, item):\n",
    "        self.emprunts.append(item)\n"
   ]
  },
  {
   "cell_type": "markdown",
   "metadata": {},
   "source": [
    "Dans ces classes, nous avons défini quelques-uns des objets clés de notre bibliothèque : les livres, les magazines et les utilisateurs. Les livres et les magazines héritent de la classe ItemBibliothèque, montrant comment l'héritage et l'extension des méthodes peuvent être utilisés conjointement pour construire des structures logiques et réutilisables."
   ]
  },
  {
   "cell_type": "markdown",
   "metadata": {},
   "source": [
    "\n",
    "2. Le polymorphisme\n",
    "   \n",
    "Le polymorphisme est l'un des piliers fondamentaux de la programmation orientée objet. Il découle du grec \"poly\" (plusieurs) et \"morph\" (formes). Dans le contexte de l'OOP, le polymorphisme fait référence à la capacité d'un objet à prendre plusieurs formes. Cela signifie qu'un objet d'une classe enfant peut être traité comme un objet de sa classe parente. Mais le polymorphisme va bien au-delà de cette simple définition.\n",
    "\n",
    "Analogie : Pensez au concept de chargement USB. Il existe plusieurs types de ports USB (USB-A, USB-C, micro USB, etc.), mais ils ont tous une fonction similaire de chargement ou de transfert de données. Ainsi, bien qu'ils aient des formes et des fonctions légèrement différentes, ils peuvent tous être considérés comme des \"USB\". C'est une forme de polymorphisme dans le monde réel.\n",
    "\n",
    "Décortiquons cela en termes de code.\n",
    "\n",
    "2.1 Polymorphisme et héritage\n",
    "Dans le contexte de notre bibliothèque, supposons que nous voulons afficher une description pour chaque élément. Chaque type d'élément (Livre, Magazine) pourrait avoir une description légèrement différente, mais ils ont tous une méthode description()."
   ]
  },
  {
   "cell_type": "code",
   "execution_count": 1,
   "metadata": {},
   "outputs": [],
   "source": [
    "class ItemBibliothèque:\n",
    "    def __init__(self, titre, date_publication):\n",
    "        self.titre = titre\n",
    "        self.date_publication = date_publication\n",
    "\n",
    "    def description(self):\n",
    "        return f\"Titre: {self.titre}, Date de publication: {self.date_publication}\"\n",
    "\n",
    "class Livre(ItemBibliothèque):\n",
    "    def __init__(self, titre, date_publication, auteur, ISBN):\n",
    "        ItemBibliothèque.__init__(self, titre, date_publication)\n",
    "        self.auteur = auteur\n",
    "        self.ISBN = ISBN\n",
    "\n",
    "    def description(self):  # Cette méthode surcharge la méthode parente\n",
    "        base_desc = super().description()  # Utilise la méthode 'description' de la classe parente\n",
    "        return f\"{base_desc}, Auteur: {self.auteur}, ISBN: {self.ISBN}\"\n",
    "\n",
    "class Magazine(ItemBibliothèque):\n",
    "    def __init__(self, titre, date_publication, editeur, numero_edition):\n",
    "        ItemBibliothèque.__init__(self, titre, date_publication)\n",
    "        self.editeur = editeur\n",
    "        self.numero_edition = numero_edition\n",
    "\n",
    "    def description(self):  # Cette méthode surcharge aussi la méthode parente\n",
    "        base_desc = super().description()  # Utilise la méthode 'description' de la classe parente\n",
    "        return f\"{base_desc}, Éditeur: {self.editeur}, Édition: {self.numero_edition}\"\n"
   ]
  },
  {
   "cell_type": "markdown",
   "metadata": {},
   "source": [
    "Le polymorphisme se manifeste lorsque nous traitons chaque objet Livre ou Magazine comme un ItemBibliothèque et appelons sa méthode description(). La méthode appropriée (celle de Livre ou Magazine) sera appelée, grâce au mécanisme interne de Python appelé \"liaison tardive\"."
   ]
  },
  {
   "cell_type": "code",
   "execution_count": 2,
   "metadata": {},
   "outputs": [
    {
     "name": "stdout",
     "output_type": "stream",
     "text": [
      "Titre: L'Étranger, Date de publication: 1942, Auteur: Albert Camus, ISBN: 123456789\n",
      "Titre: ScienceActu, Date de publication: 2022, Éditeur: Éditions Sci, Édition: 42\n"
     ]
    }
   ],
   "source": [
    "items = [Livre(\"L'Étranger\", \"1942\", \"Albert Camus\", \"123456789\"),\n",
    "         Magazine(\"ScienceActu\", \"2022\", \"Éditions Sci\", \"42\")]\n",
    "\n",
    "for item in items:\n",
    "    print(item.description())  # Le polymorphisme en action!\n"
   ]
  },
  {
   "cell_type": "markdown",
   "metadata": {},
   "source": [
    "super()\n",
    "Lorsqu'on parle de classes et d'héritage en programmation orientée objet, on se trouve souvent dans une situation où une classe enfant souhaite utiliser ou étendre une méthode définie dans sa classe parente. Le mot-clé super() en Python est un outil pratique pour y parvenir.\n",
    "\n",
    "Utilité de super()\n",
    "Imaginez que vous ayez une classe de base qui définit une certaine méthode. Lorsque vous créez une sous-classe (classe enfant) et que vous souhaitez également utiliser cette méthode, mais avec un petit ajustement, vous pouvez faire appel à super().\n",
    "\n",
    "Cela permet à la classe enfant d'accéder aux méthodes de la classe parente sans avoir à les réécrire.\n",
    "\n",
    "Pourquoi ? : Il permet une référence directe à la classe parente, ce qui est particulièrement utile en cas de multi-héritage où l'ordre d'héritage (la méthode de résolution) peut devenir complexe.\n",
    "\n",
    "Depuis quand ? : super() a été introduit en Python 2.2 pour améliorer le modèle d'héritage et le rendre plus cohérent, surtout dans les cas de multi-héritage.\n",
    "\n",
    "Alternatives : Avant super(), les développeurs faisaient généralement directement référence à la classe parente par son nom pour appeler une méthode. Cependant, cela peut devenir problématique, surtout en cas de renommage de la classe ou de multi-héritage.\n",
    "\n",
    "Exemple simple\n",
    "Prenons l'exemple d'une classe Véhicule et d'une sous-classe Voiture."
   ]
  },
  {
   "cell_type": "code",
   "execution_count": 3,
   "metadata": {},
   "outputs": [],
   "source": [
    "class Véhicule:\n",
    "    def démarrer(self):\n",
    "        return \"Le véhicule démarre.\"\n",
    "\n",
    "class Voiture(Véhicule):\n",
    "    def démarrer(self):\n",
    "        étape_base = super().démarrer()  # Utilisation de super pour appeler la méthode de la classe parente\n",
    "        return f\"{étape_base} Les ceintures sont bouclées.\""
   ]
  },
  {
   "cell_type": "markdown",
   "metadata": {},
   "source": [
    "Dans cet exemple, la classe Voiture hérite de la classe Véhicule. La méthode démarrer de la classe Voiture utilise super() pour appeler la méthode démarrer de la classe Véhicule avant d'ajouter ses propres instructions.\n",
    "\n",
    "Autre scénario\n",
    "Imaginons maintenant que nous ayons une classe Rectangle et que nous voulions créer une sous-classe Carré :"
   ]
  },
  {
   "cell_type": "code",
   "execution_count": 4,
   "metadata": {},
   "outputs": [],
   "source": [
    "class Rectangle:\n",
    "    def __init__(self, longueur, largeur):\n",
    "        self.longueur = longueur\n",
    "        self.largeur = largeur\n",
    "\n",
    "    def aire(self):\n",
    "        return self.longueur * self.largeur\n",
    "\n",
    "class Carré(Rectangle):\n",
    "    def __init__(self, côté):\n",
    "        super().__init__(côté, côté)  # Utilisation de super pour initialiser le carré comme un rectangle avec des côtés égaux"
   ]
  },
  {
   "cell_type": "markdown",
   "metadata": {},
   "source": [
    "Exercice : Nourriture et besoins énergétiques dans un refuge pour chiens\n",
    "\n",
    "Énoncé :\n",
    "Au sein de votre application de gestion d'un refuge pour chiens, vous souhaitez estimer la quantité de nourriture nécessaire pour chaque chien en fonction de sa taille. Tous les chiens ont une formule standard pour estimer leurs besoins, mais selon la race et la taille, cette formule sera ajustée.\n",
    "\n",
    "Classe de base - Chien :\n",
    "\n",
    "- Attributs : nom (string) et poids (float en kg).\n",
    "- Méthode quantite_nourriture : estime la quantité de nourriture nécessaire en se basant sur la formule : poids * 0.03 (soit 3% du poids du chien par jour).\n",
    "- Sous-classes - Pekinois, GoldenRetriever, SaintBernard :\n",
    "\n",
    "  - Pekinois : Du fait de leur petite taille, ils ont un métabolisme plus rapide. La quantité de nourriture est augmentée de 10% par rapport à l'estimation standard.\n",
    "\n",
    "  - GoldenRetriever : C'est une taille intermédiaire, donc la quantité de nourriture reste la même que l'estimation standard.\n",
    "  - SaintBernard : De par leur grande taille, ils ont des besoins énergétiques plus élevés, donc leur besoin est augmenté de 20% par rapport à l'estimation standard.\n",
    "\n",
    "Pour chaque sous-classe, surchargez la méthode quantite_nourriture en utilisant le mot-clé super pour récupérer l'estimation standard et ajustez la quantité en fonction des besoins spécifiques de chaque race.\n",
    "\n",
    "Créez des instances pour chaque sous-classe, estimez la quantité de nourriture nécessaire pour chaque chien et affichez les résultats."
   ]
  },
  {
   "cell_type": "markdown",
   "metadata": {},
   "source": [
    "Méthodes spéciales en Python\n",
    "Les méthodes spéciales, aussi appelées \"dunder methods\" pour \"double underscore\", sont des méthodes caractérisées par des doubles underscores avant et après le nom de la méthode, par exemple __init__, __str__, etc. Elles ont des rôles bien définis en Python et permettent de personnaliser le comportement de vos objets dans différentes situations.\n",
    "\n",
    "Qu'arrive-t-il sans __str__ ou __repr__ ?\n",
    "Lorsque vous créez une classe et que vous ne définissez ni la méthode __str__ ni la méthode __repr__, et que vous essayez d'imprimer une instance de cette classe, vous obtiendrez une réponse par défaut qui donne le nom de la classe et son adresse mémoire."
   ]
  },
  {
   "cell_type": "code",
   "execution_count": 6,
   "metadata": {},
   "outputs": [
    {
     "name": "stdout",
     "output_type": "stream",
     "text": [
      "<__main__.Livre object at 0x110e44e10>\n"
     ]
    }
   ],
   "source": [
    "class Livre:\n",
    "    def __init__(self, titre, auteur):\n",
    "        self.titre = titre\n",
    "        self.auteur = auteur\n",
    "\n",
    "livre1 = Livre(\"1984\", \"George Orwell\")\n",
    "print(livre1)  # Renvoie: <__main__.Livre object at 0x7f5d2f33d150>\n"
   ]
  },
  {
   "cell_type": "markdown",
   "metadata": {},
   "source": [
    "Cette réponse n'est pas très informative. C'est là que __str__ et __repr__ entrent en jeu.\n",
    "\n",
    "__str__ vs __repr__\n",
    "__str__: Destinée à fournir une représentation sous forme de chaîne de caractères de l'objet qui soit lisible et destinée à l'utilisateur final. Elle est appelée par la fonction print() et par la fonction str().\n",
    "\n",
    "__repr__: Destinée à fournir une représentation plus \"technique\" et non ambiguë de l'objet, idéalement une expression Python qui pourrait être utilisée pour recréer l'objet. C'est ce qui est affiché lorsque vous tapez l'objet dans l'interpréteur. Si __str__ n'est pas défini, __repr__ est utilisé comme repli pour print().\n",
    "\n",
    "Exemple:"
   ]
  },
  {
   "cell_type": "code",
   "execution_count": 7,
   "metadata": {},
   "outputs": [
    {
     "name": "stdout",
     "output_type": "stream",
     "text": [
      "'1984' de George Orwell\n",
      "Livre('1984', 'George Orwell')\n"
     ]
    }
   ],
   "source": [
    "class Livre:\n",
    "    def __init__(self, titre, auteur):\n",
    "        self.titre = titre\n",
    "        self.auteur = auteur\n",
    "\n",
    "    def __str__(self):\n",
    "        return f\"'{self.titre}' de {self.auteur}\"\n",
    "\n",
    "    def __repr__(self):\n",
    "        return f\"Livre('{self.titre}', '{self.auteur}')\"\n",
    "\n",
    "livre1 = Livre(\"1984\", \"George Orwell\")\n",
    "\n",
    "print(livre1)           # Utilise __str__ : '1984' de George Orwell\n",
    "print(repr(livre1))     # Utilise __repr__ : Livre('1984', 'George Orwell')\n"
   ]
  },
  {
   "cell_type": "markdown",
   "metadata": {},
   "source": [
    "L'idée est de fournir, avec __str__, une description agréable de l'objet pour l'utilisateur final, tandis qu'avec __repr__, vous fournissez une représentation plus formelle et technique, utile pour le développeur.\n",
    "\n",
    "Autres méthodes spéciales\n",
    "Outre ces deux méthodes, Python propose de nombreuses autres méthodes spéciales permettant de personnaliser le comportement des objets pour diverses opérations : arithmétiques (__add__, __mul__), comparaisons (__eq__, __lt__), longueur (__len__), etc. Utiliser ces méthodes permet d'intégrer vos objets de manière plus naturelle dans l'écosystème Python, les rendant plus \"pythonesques\"."
   ]
  },
  {
   "cell_type": "markdown",
   "metadata": {},
   "source": [
    "## Aller plus loin avec les méthodes spéciales\n",
    "\n",
    "Les méthodes spéciales sont un moyen puissant d'adapter le comportement standard de Python à nos propres objets. Mais pour vraiment saisir leur puissance, nous allons introduire un nouveau concept : la fonction eval().\n",
    "\n",
    "La fonction eval()\n",
    "La fonction eval() est une fonction intégrée de Python qui permet d'exécuter une chaîne de caractères comme une expression Python. Par exemple :\n",
    "\n"
   ]
  },
  {
   "cell_type": "code",
   "execution_count": 8,
   "metadata": {},
   "outputs": [
    {
     "name": "stdout",
     "output_type": "stream",
     "text": [
      "3\n"
     ]
    }
   ],
   "source": [
    "x = 1\n",
    "resultat = eval(\"x + 2\")\n",
    "print(resultat)  # Affiche: 3"
   ]
  },
  {
   "cell_type": "markdown",
   "metadata": {},
   "source": [
    "En combinaison avec __repr__(), eval() peut être utilisé pour \"ressusciter\" un objet à partir de sa représentation sous forme de chaîne de caractères.\n",
    "\n",
    "Exemple avec __repr__ :\n",
    "Reprenons l'exemple de la classe Livre :"
   ]
  },
  {
   "cell_type": "code",
   "execution_count": null,
   "metadata": {},
   "outputs": [],
   "source": [
    "class Livre:\n",
    "    def __init__(self, titre, auteur):\n",
    "        self.titre = titre\n",
    "        self.auteur = auteur\n",
    "\n",
    "    def __repr__(self):\n",
    "        return f\"Livre('{self.titre}', '{self.auteur}')\""
   ]
  },
  {
   "cell_type": "markdown",
   "metadata": {},
   "source": [
    "En combinaison avec __repr__(), eval() peut être utilisé pour \"ressusciter\" un objet à partir de sa représentation sous forme de chaîne de caractères.\n",
    "\n",
    "Exemple avec __repr__ :\n",
    "Reprenons l'exemple de la classe Livre :"
   ]
  },
  {
   "cell_type": "code",
   "execution_count": 9,
   "metadata": {},
   "outputs": [],
   "source": [
    "class Livre:\n",
    "    def __init__(self, titre, auteur):\n",
    "        self.titre = titre\n",
    "        self.auteur = auteur\n",
    "\n",
    "    def __repr__(self):\n",
    "        return f\"Livre('{self.titre}', '{self.auteur}')\"\n"
   ]
  },
  {
   "cell_type": "markdown",
   "metadata": {},
   "source": [
    "Si nous créons une instance de Livre :"
   ]
  },
  {
   "cell_type": "code",
   "execution_count": 10,
   "metadata": {},
   "outputs": [],
   "source": [
    "livre1 = Livre(\"1984\", \"George Orwell\")"
   ]
  },
  {
   "cell_type": "markdown",
   "metadata": {},
   "source": [
    "La méthode __repr__ donne :"
   ]
  },
  {
   "cell_type": "code",
   "execution_count": 11,
   "metadata": {},
   "outputs": [
    {
     "name": "stdout",
     "output_type": "stream",
     "text": [
      "Livre('1984', 'George Orwell')\n"
     ]
    }
   ],
   "source": [
    "representation = repr(livre1)\n",
    "print(representation)  # Affiche: Livre('1984', 'George Orwell')"
   ]
  },
  {
   "cell_type": "markdown",
   "metadata": {},
   "source": [
    "Avec eval(), nous pouvons créer une nouvelle instance à partir de cette représentation :"
   ]
  },
  {
   "cell_type": "code",
   "execution_count": 13,
   "metadata": {},
   "outputs": [
    {
     "name": "stdout",
     "output_type": "stream",
     "text": [
      "1984\n"
     ]
    }
   ],
   "source": [
    "livre2 = eval(representation)\n",
    "print(livre2.titre)    # Affiche: 1984"
   ]
  },
  {
   "cell_type": "code",
   "execution_count": 14,
   "metadata": {},
   "outputs": [
    {
     "name": "stdout",
     "output_type": "stream",
     "text": [
      "1984\n"
     ]
    }
   ],
   "source": [
    "livre2 = eval(representation)\n",
    "print(livre2.titre)    # Affiche: 1984"
   ]
  },
  {
   "cell_type": "markdown",
   "metadata": {},
   "source": [
    "---\n",
    "\n",
    "Exercice : Mettre en pratique les méthodes spéciales\n",
    "Imaginez que vous gérez une collection de CDs musicaux. Chaque CD a un titre, un artiste et une liste de chansons. Vous voulez être capable de :\n",
    "\n",
    "Afficher une représentation lisible du CD.\n",
    "Comparer deux CDs pour voir s'ils sont identiques.\n",
    "Ajouter deux CDs pour obtenir un \"double album\".\n",
    "Définissez une classe CD qui utilise les méthodes spéciales pour ces opérations : __repr__, __str__, __eq__, et __add__."
   ]
  },
  {
   "cell_type": "markdown",
   "metadata": {},
   "source": [
    "---\n",
    "\n",
    "Exercice wrap-up\n",
    "\n",
    "Gestion de Flotte de Véhicules\n",
    "\n",
    "Une entreprise de logistique possède différents types de véhicules : Voitures, Camions, et Motos. Chaque type de véhicule a des caractéristiques distinctes et des méthodes de calcul spécifiques.\n",
    "\n",
    "Objectifs :\n",
    "\n",
    "Utilisez l'héritage pour créer des classes pour chaque type de véhicule à partir d'une classe parente Vehicule.\n",
    "Implémentez la polymorphie pour définir des méthodes spécifiques à chaque type.\n",
    "Utilisez les méthodes spéciales pour représenter et comparer ces véhicules.\n",
    "Exigences :\n",
    "\n",
    "Tous les véhicules ont un nom, un numéro d'immatriculation, et une capacité de carburant.\n",
    "Les voitures ont un attribut supplémentaire : nombre de places.\n",
    "Les camions ont deux attributs supplémentaires : capacité de cargaison (en tonnes) et type de cargaison (par exemple : liquide, solide...).\n",
    "Les motos ont un attribut supplémentaire : type (par exemple : sportive, chopper, etc.).\n",
    "Méthodes :\n",
    "\n",
    "La classe Vehicule doit avoir une méthode distance_possibles qui retourne 0 par défaut.\n",
    "Chaque type de véhicule dérivé doit surcharger cette méthode. Assumez une consommation fixe de 15 km/l pour les voitures, 5 km/l pour les camions, et 20 km/l pour les motos.\n",
    "Surchargez la méthode __str__ pour chaque type de véhicule pour retourner une représentation lisible.\n",
    "Surchargez la méthode __repr__ pour retourner une représentation officielle du véhicule.\n",
    "Surchargez les méthodes __lt__, __le__, __gt__, et __ge__ pour comparer les véhicules en fonction de leur distance_possibles.\n",
    "Tâches :\n",
    "\n",
    "Créez la classe parente Vehicule ainsi que les classes dérivées Voiture, Camion, et Moto.\n",
    "Créez plusieurs instances pour chaque type de véhicule. Par exemple:\n",
    "Voiture(\"Toyota Corolla\", \"XYZ-123\", 50, 5)\n",
    "Camion(\"MAN TGS\", \"ABD-567\", 300, 20, \"liquide\")\n",
    "Moto(\"Harley Davidson\", \"JKL-890\", 15, \"chopper\")\n",
    "Testez les méthodes distance_possibles, __str__, et __repr__.\n",
    "Comparez deux véhicules pour voir lequel peut parcourir la plus grande distance avec son carburant actuel.\n"
   ]
  },
  {
   "cell_type": "markdown",
   "metadata": {},
   "source": []
  },
  {
   "cell_type": "markdown",
   "metadata": {},
   "source": []
  }
 ],
 "metadata": {
  "kernelspec": {
   "display_name": "Python 3",
   "language": "python",
   "name": "python3"
  },
  "language_info": {
   "codemirror_mode": {
    "name": "ipython",
    "version": 3
   },
   "file_extension": ".py",
   "mimetype": "text/x-python",
   "name": "python",
   "nbconvert_exporter": "python",
   "pygments_lexer": "ipython3",
   "version": "3.11.2"
  },
  "orig_nbformat": 4
 },
 "nbformat": 4,
 "nbformat_minor": 2
}
