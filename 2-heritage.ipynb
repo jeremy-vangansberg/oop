{
 "cells": [
  {
   "cell_type": "markdown",
   "metadata": {},
   "source": [
    "# Héritage en Python\n",
    "\n",
    "## 1. Introduction à l'héritage de classe\n",
    "   \n",
    "L'héritage est un pilier fondamental de la programmation orientée objet (POO). Il permet à une classe (sous-classe) d'hériter des attributs et des méthodes d'une autre classe (superclasse). Cela signifie que nous pouvons créer une nouvelle classe basée sur une classe existante en héritant de ses attributs et méthodes, tout en ayant la possibilité d'ajouter ou de surcharger certains d'entre eux.\n",
    "\n",
    "\n",
    "Avantages de l'héritage :\n",
    "Réutilisation du code : Cela évite de réécrire le même code et permet de l'utiliser dans différents contextes.\n",
    "Extensibilité : Vous pouvez ajouter de nouvelles fonctionnalités à une classe existante sans la modifier.\n",
    "Organisation : Il est plus facile de gérer et d'organiser le code en regroupant les fonctionnalités communes dans une classe de base."
   ]
  },
  {
   "cell_type": "markdown",
   "metadata": {},
   "source": [
    "Nous allons utiliser le concept d'héritage afin d'ajouter une nouvelle fonctionnalité.\n",
    "\n",
    "Avant ca on va explorer une nouvelle librairie : turtle\n",
    "\n",
    "Démonstration (formateur) turtle.\n",
    "\n",
    "Ensuite reprenons le code précédent. Nous allons ajouter une nouvelle fonctionnalité à notre programme : Dessiner le rectangle et le point à l'aide de turtle"
   ]
  },
  {
   "cell_type": "code",
   "execution_count": 11,
   "metadata": {},
   "outputs": [
    {
     "name": "stdout",
     "output_type": "stream",
     "text": [
      "Rectangle Coordinates:  4 , 6 and 11 , 14\n",
      "Your point was inside rectangle:  False\n",
      "Your area was off by:  51.0\n"
     ]
    }
   ],
   "source": [
    "from random import randint\n",
    "\n",
    "class Point:\n",
    "\n",
    "    def __init__(self, x, y):\n",
    "        self.x = x\n",
    "        self.y = y\n",
    "\n",
    "    def falls_in_rectangle(self, rectangle):\n",
    "        if rectangle.point1.x < self.x < rectangle.point2.x \\\n",
    "                and rectangle.point1.y < self.y < rectangle.point2.y:\n",
    "            return True\n",
    "        else:\n",
    "            return False\n",
    "\n",
    "\n",
    "class Rectangle:\n",
    "\n",
    "    def __init__(self, point1, point2):\n",
    "        # On s'assure que point1 est en bas à gauche\n",
    "        # et que point2 est en haut à droite\n",
    "        self.point1 = Point(min(point1.x, point2.x), min(point1.y, point2.y))\n",
    "        self.point2 = Point(max(point1.x, point2.x), max(point1.y, point2.y))\n",
    "\n",
    "    def area(self):\n",
    "        return (self.point2.x - self.point1.x) * \\\n",
    "               (self.point2.y - self.point1.y)\n",
    "\n",
    "\n",
    "# Create rectangle object\n",
    "rectangle = Rectangle(Point(randint(0, 9), randint(0, 9)),\n",
    "              Point(randint(10, 19), randint(10, 19)))\n",
    "\n",
    "# Print rectangle coordinates\n",
    "print(\"Rectangle Coordinates: \",\n",
    "      rectangle.point1.x, \",\",\n",
    "      rectangle.point1.y, \"and\",\n",
    "      rectangle.point2.x, \",\",\n",
    "      rectangle.point2.y)\n",
    "\n",
    "# Get point and area from user\n",
    "user_point = Point(float(input(\"Guess x: \")), float(input(\"Guess y: \")))\n",
    "user_area = float(input(\"Guess rectangle area: \"))\n",
    "\n",
    "# Print out the game result\n",
    "print(\"Your point was inside rectangle: \", user_point.falls_in_rectangle(rectangle))\n",
    "print(\"Your area was off by: \", rectangle.area() - user_area)"
   ]
  },
  {
   "cell_type": "markdown",
   "metadata": {},
   "source": [
    "Dans le code ci-dessus j'ai juste modifié le range de valeur pour que le rectangle ait plus de chance d'être plus grand. Ce qu'on a envie de faire c'est de rajouter une méthode `draw()` à la classe Rectangle. Cependant d'un certains cas ce n'est pas la meilleur pratique. En modifiant la classe Rectangle, on prend le risque de casser le code. Ce qu'on peut faire à la place c'est utiliser le concept d'héritage.\n",
    "\n",
    "Ce que l'on va faire ici, c'est créé une nouvelle classe GraphicalRectangle."
   ]
  },
  {
   "cell_type": "code",
   "execution_count": 12,
   "metadata": {},
   "outputs": [],
   "source": [
    "class GraphicalRectangle:\n",
    "    pass"
   ]
  },
  {
   "cell_type": "markdown",
   "metadata": {},
   "source": [
    "Et on va la faire hériter de la classe Rectangle :"
   ]
  },
  {
   "cell_type": "code",
   "execution_count": 13,
   "metadata": {},
   "outputs": [],
   "source": [
    "class GraphicalRectangle(Rectangle):\n",
    "    pass"
   ]
  },
  {
   "cell_type": "markdown",
   "metadata": {},
   "source": [
    "En faisant cela notre classe GraphicalRectangle **dispose de toutes les méthodes** de la classe Rectangle"
   ]
  },
  {
   "cell_type": "code",
   "execution_count": 14,
   "metadata": {},
   "outputs": [
    {
     "data": {
      "text/plain": [
       "<__main__.Point at 0x10aadd350>"
      ]
     },
     "execution_count": 14,
     "metadata": {},
     "output_type": "execute_result"
    }
   ],
   "source": [
    "point1 = Point(3,4)\n",
    "point2 = Point(5,6)\n",
    "\n",
    "rectangle = GraphicalRectangle(point1, point2)\n",
    "rectangle.point1"
   ]
  },
  {
   "cell_type": "markdown",
   "metadata": {},
   "source": [
    "Désormais on peut définir une nouvelle méthode, ici je vais copier/coller la démo sur tutle, en remplacant `myturtle` par le nom de la variable `canvas`: "
   ]
  },
  {
   "cell_type": "code",
   "execution_count": 15,
   "metadata": {},
   "outputs": [],
   "source": [
    "import turtle\n",
    "\n",
    "myturtle = turtle.Turtle()\n",
    "\n",
    "class GraphicalRectangle(Rectangle):\n",
    "\n",
    "    def draw(self, canvas=myturtle):\n",
    "        canvas.penup()\n",
    "        # Le point (0,0) c'est le centre du canves\n",
    "        canvas.goto(10, 50)\n",
    "        canvas.pendown()\n",
    "\n",
    "        # Dessin d'un rectangle\n",
    "        canvas.forward(100)\n",
    "        canvas.left(90)\n",
    "        canvas.forward(200)\n",
    "        canvas.left(90)\n",
    "        canvas.forward(100)\n",
    "        canvas.left(90)\n",
    "        canvas.forward(200)\n",
    "\n",
    "        turtle.done()"
   ]
  },
  {
   "cell_type": "markdown",
   "metadata": {},
   "source": [
    "Et on remplace les valeurs que l'on avait définit en dur par les variables de la classe :"
   ]
  },
  {
   "cell_type": "code",
   "execution_count": 16,
   "metadata": {},
   "outputs": [],
   "source": [
    "import turtle\n",
    "\n",
    "myturtle = turtle.Turtle()\n",
    "\n",
    "class GraphicalRectangle(Rectangle):\n",
    "\n",
    "    def draw(self, canvas=myturtle):\n",
    "        canvas.penup()\n",
    "        # Le point (0,0) c'est le centre du canves\n",
    "        canvas.goto(self.point1.x, self.point1.x,)\n",
    "        canvas.pendown()\n",
    "\n",
    "        largeur = self.point2.x - self.point1.x\n",
    "        longueur = self.point2.y - self.point1.y\n",
    "        # Dessin d'un rectangle\n",
    "        canvas.forward(largeur)\n",
    "        canvas.left(90)\n",
    "        canvas.forward(longueur)\n",
    "        canvas.left(90)\n",
    "        canvas.forward(largeur)\n",
    "        canvas.left(90)\n",
    "        canvas.forward(longueur)\n",
    "\n",
    "        turtle.done()"
   ]
  },
  {
   "cell_type": "code",
   "execution_count": 17,
   "metadata": {},
   "outputs": [],
   "source": [
    "point1 = Point(3,4)\n",
    "point2 = Point(5,6)\n",
    "rectangle = GraphicalRectangle(point1, point2)\n",
    "rectangle.draw()"
   ]
  },
  {
   "cell_type": "markdown",
   "metadata": {},
   "source": [
    "On va également hériter de la classe point afin de créer une classe GraphicalPoint"
   ]
  },
  {
   "cell_type": "code",
   "execution_count": 18,
   "metadata": {},
   "outputs": [],
   "source": [
    "class GraphicalPoint(Point):\n",
    "    def draw(self, canvas, size=5):\n",
    "        canvas.penup()\n",
    "        # Le point (0,0) c'est le centre du canves\n",
    "        canvas.goto(self.x, self.y)\n",
    "        canvas.pendown()\n",
    "        canvas.dot(size=size)"
   ]
  },
  {
   "cell_type": "markdown",
   "metadata": {},
   "source": [
    "Démonstration : assembler tous les composantes pour faire marcher l'application\n",
    "\n",
    "---"
   ]
  },
  {
   "cell_type": "markdown",
   "metadata": {},
   "source": [
    "Exercice : Héritage\n",
    "L'atelier de peinture décide qu'il est judicieux d'appliquer des remises sur la peinture pour des occasions spéciales. Par conséquent, votre nouvelle tâche en tant que programmeur est d'incorporer un nouveau type d'objet - DiscountedPaint. \n",
    "\n",
    "Votre tâche exacte consiste à :\n",
    "\n",
    "1. Créer une classe DiscountedPaint sous le code existant. Cette classe doit hériter de Paint.\n",
    "\n",
    "2. Ajouter une méthode discounted_price à cette classe. La méthode doit avoir un paramètre discount_percentage. Il n'est pas nécessaire de créer une méthode __init__.\n",
    "\n",
    "3. La méthode discounted_price doit calculer et renvoyer un prix actualisé basé sur la sortie de self.total_price() et la valeur de discount_percentage. Vous pourriez faire cela en calculant d'abord le prix total, puis la remise totale, puis en soustrayant la remise totale du prix total pour obtenir le prix escompté et le renvoyer."
   ]
  },
  {
   "cell_type": "code",
   "execution_count": null,
   "metadata": {},
   "outputs": [],
   "source": [
    "class Paint:\n",
    "\n",
    "    def __init__(self, buckets, color): # Or get house area and height\n",
    "        self.color = color\n",
    "        self.buckets = buckets\n",
    "\n",
    "    def total_price(self):\n",
    "        if self.color == \"white\":\n",
    "            return self.buckets * 1.99\n",
    "        else:\n",
    "            return self.buckets * 2.19\n",
    "            \n",
    "class DiscountedPaint(Paint):"
   ]
  }
 ],
 "metadata": {
  "kernelspec": {
   "display_name": "Python 3",
   "language": "python",
   "name": "python3"
  },
  "language_info": {
   "codemirror_mode": {
    "name": "ipython",
    "version": 3
   },
   "file_extension": ".py",
   "mimetype": "text/x-python",
   "name": "python",
   "nbconvert_exporter": "python",
   "pygments_lexer": "ipython3",
   "version": "3.11.2"
  },
  "orig_nbformat": 4
 },
 "nbformat": 4,
 "nbformat_minor": 2
}
