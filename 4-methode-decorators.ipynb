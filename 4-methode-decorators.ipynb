{
 "cells": [
  {
   "cell_type": "markdown",
   "metadata": {},
   "source": [
    "# Les décorateurs et les différentes méthodes \n",
    "\n",
    "## 1. Introduction aux décorateurs\n",
    "\n",
    "### a. Décors de fonctions:\n",
    "\n",
    "Un décorateur est essentiellement une fonction qui en \"décore\" ou en modifie une autre. Les décorateurs sont une manière élégante de modifier le comportement d'une fonction sans la changer directement. En Python, les décorateurs sont appliqués à l'aide du symbole **@** suivi du nom du décorateur.\n",
    "\n",
    "#### Comment fonctionne un décorateur ?\n",
    "Prenons un décorateur simple comme exemple :"
   ]
  },
  {
   "cell_type": "code",
   "execution_count": 12,
   "metadata": {},
   "outputs": [],
   "source": [
    "def simple_decorator(func):\n",
    "    def wrapper():\n",
    "        print(\"Avant l'appel de la fonction.\")\n",
    "        func()\n",
    "        print(\"Après l'appel de la fonction.\")\n",
    "    return wrapper\n",
    "\n",
    "@simple_decorator\n",
    "def say_hello():\n",
    "    print(\"Hello!\")\n"
   ]
  },
  {
   "cell_type": "code",
   "execution_count": 13,
   "metadata": {},
   "outputs": [
    {
     "name": "stdout",
     "output_type": "stream",
     "text": [
      "Avant l'appel de la fonction.\n",
      "Hello!\n",
      "Après l'appel de la fonction.\n"
     ]
    }
   ],
   "source": [
    "say_hello()"
   ]
  },
  {
   "cell_type": "markdown",
   "metadata": {},
   "source": [
    "Lorsque vous déclarez **@simple_decorator** au-dessus de say_hello, cela équivaut à dire :"
   ]
  },
  {
   "cell_type": "code",
   "execution_count": 10,
   "metadata": {},
   "outputs": [],
   "source": [
    "say_hello = simple_decorator(say_hello)"
   ]
  },
  {
   "cell_type": "markdown",
   "metadata": {},
   "source": [
    "#### Ce qui se passe :\n",
    "\n",
    "**func** : Lorsque vous utilisez un décorateur, la fonction que vous \"décorez\" est passée au décorateur comme argument. Dans cet exemple, func est une référence à say_hello.\n",
    "\n",
    "**wrapper** : Il s'agit d'une fonction interne (ou de fermeture) qui englobe la fonction originale. Elle permet d'exécuter du code avant et/ou après l'appel de la fonction originale.\n",
    "\n",
    "**func()** dans le wrapper appelle la fonction originale.\n",
    "\n",
    "Le décorateur retourne le wrapper.\n",
    "\n",
    "Lorsque vous appelez **say_hello()**, vous appelez en réalité le wrapper qui appelle **say_hello** à l'intérieur."
   ]
  },
  {
   "cell_type": "markdown",
   "metadata": {},
   "source": [
    "#### Mot-clés ou convention ?\n",
    "\n",
    "Les mots \"wrapper\" et \"func\" ne sont que des conventions et ne sont en aucun cas des obligations strictes. Vous êtes libre de choisir n'importe quel autre nom pour ces fonctions internes ou pour l'argument de la fonction décoratrice. Cependant, il est courant d'utiliser des noms comme \"wrapper\" ou \"inner\" pour la fonction interne et des noms comme \"func\", \"f\", ou \"function\" pour l'argument de la fonction décoratrice, car ils décrivent clairement leurs rôles respectifs.\n",
    "\n",
    "Voici un exemple pour illustrer ce point :"
   ]
  },
  {
   "cell_type": "code",
   "execution_count": 5,
   "metadata": {},
   "outputs": [],
   "source": [
    "def my_decorator(original_function):\n",
    "    def inner_function():\n",
    "        print(\"Avant l'appel de la fonction.\")\n",
    "        original_function()\n",
    "        print(\"Après l'appel de la fonction.\")\n",
    "    return inner_function\n",
    "\n",
    "@my_decorator\n",
    "def greet():\n",
    "    print(\"Hello!\")"
   ]
  },
  {
   "cell_type": "markdown",
   "metadata": {},
   "source": [
    "Dans cet exemple, \"my_decorator\" est la fonction décoratrice, \"original_function\" est l'argument de la fonction décoratrice (la fonction que vous décorez), et \"inner_function\" est la fonction interne qui enveloppe et modifie le comportement de \"original_function\"."
   ]
  },
  {
   "cell_type": "markdown",
   "metadata": {},
   "source": [
    "#### Exemple avec arguments:\n",
    "\n",
    "Les décorateurs peuvent également être utilisés avec des fonctions qui prennent des arguments :"
   ]
  },
  {
   "cell_type": "code",
   "execution_count": 14,
   "metadata": {},
   "outputs": [],
   "source": [
    "def decorator_with_args(func):\n",
    "    def wrapper(*args, **kwargs):\n",
    "        print(f\"Arguments : {args}, {kwargs}\")\n",
    "        return func(*args, **kwargs)\n",
    "    return wrapper\n",
    "\n",
    "@decorator_with_args\n",
    "def greet(name, age=None):\n",
    "    if age:\n",
    "        return f\"Hello {name}, you are {age} years old!\"\n",
    "    else:\n",
    "        return f\"Hello {name}!\""
   ]
  },
  {
   "cell_type": "code",
   "execution_count": 15,
   "metadata": {},
   "outputs": [
    {
     "name": "stdout",
     "output_type": "stream",
     "text": [
      "Arguments : ('Camille',), {'age': 31}\n"
     ]
    },
    {
     "data": {
      "text/plain": [
       "'Hello Camille, you are 31 years old!'"
      ]
     },
     "execution_count": 15,
     "metadata": {},
     "output_type": "execute_result"
    }
   ],
   "source": [
    "greet(\"Camille\", age=31)"
   ]
  },
  {
   "cell_type": "markdown",
   "metadata": {},
   "source": [
    "#### Dans cet exemple :\n",
    "\n",
    "*args et **kwargs dans le wrapper permettent de passer n'importe quel nombre d'arguments positionnels et nommés à la fonction originale.\n",
    "Exercice sur les décorateurs de fonctions:\n",
    "\n",
    "Créez un décorateur nommé execution_time qui mesure et affiche le temps qu'il a fallu pour exécuter la fonction décorée."
   ]
  },
  {
   "cell_type": "markdown",
   "metadata": {},
   "source": [
    "### b. Décorateurs de méthodes :\n",
    "Les méthodes sont, dans l'essence, des fonctions qui sont définies à l'intérieur d'une classe et opèrent sur des instances de cette classe. Par conséquent, vous pouvez également les décorer comme des fonctions. Cependant, il y a une subtilité importante à prendre en compte.\n",
    "\n",
    "Lorsque vous décorez une méthode, le premier argument qu'elle reçoit est toujours une référence à l'instance elle-même (habituellement self). Si c'est une méthode de classe, alors elle reçoit la classe elle-même comme premier argument (habituellement cls).\n",
    "\n",
    "Voici comment vous pouvez décorer une méthode d'instance :"
   ]
  },
  {
   "cell_type": "code",
   "execution_count": 1,
   "metadata": {},
   "outputs": [
    {
     "name": "stdout",
     "output_type": "stream",
     "text": [
      "Avant d'appeler ma_methode\n",
      "Méthode appelée avec test. Valeur interne: 42\n",
      "Après avoir appelé ma_methode\n"
     ]
    }
   ],
   "source": [
    "def method_decorator(func):\n",
    "    def wrapper(self, *args, **kwargs):\n",
    "        print(f\"Avant d'appeler {func.__name__}\")\n",
    "        result = func(self, *args, **kwargs)\n",
    "        print(f\"Après avoir appelé {func.__name__}\")\n",
    "        return result\n",
    "    return wrapper\n",
    "\n",
    "class MaClasse:\n",
    "    def __init__(self, value):\n",
    "        self.value = value\n",
    "\n",
    "    @method_decorator\n",
    "    def ma_methode(self, param):\n",
    "        print(f\"Méthode appelée avec {param}. Valeur interne: {self.value}\")\n",
    "\n",
    "instance = MaClasse(42)\n",
    "instance.ma_methode(\"test\")\n"
   ]
  },
  {
   "cell_type": "markdown",
   "metadata": {},
   "source": [
    "Dans l'exemple ci-dessus, method_decorator est utilisé pour décorer ma_methode. Lorsque vous appelez cette méthode, les messages \"Avant d'appeler\" et \"Après avoir appelé\" sont affichés avant et après l'appel de la méthode réelle.\n",
    "\n",
    "Notez que dans la fonction wrapper du décorateur, le premier argument est self. C'est la référence à l'instance sur laquelle la méthode est appelé"
   ]
  },
  {
   "cell_type": "markdown",
   "metadata": {},
   "source": [
    "## 2. Les différents types de méthodes\n",
    "### a. Méthodes d'instance\n",
    "#### Définition\n",
    "Ce sont les méthodes traditionnelles que nous associons à un objet. Elles ont accès aux données de l'objet via self.\n",
    "\n",
    "#### Exemple\n",
    "Supposons qu'une bibliothèque ait des adhérents et chaque adhérent peut emprunter des livres."
   ]
  },
  {
   "cell_type": "code",
   "execution_count": 2,
   "metadata": {},
   "outputs": [],
   "source": [
    "class Adherent:\n",
    "    def __init__(self, nom, prenom):\n",
    "        self.nom = nom\n",
    "        self.prenom = prenom\n",
    "        self.livres_empruntes = []\n",
    "\n",
    "    def emprunter(self, livre):\n",
    "        self.livres_empruntes.append(livre)\n",
    "        print(f\"{self.prenom} {self.nom} a emprunté {livre.titre}.\")\n",
    "\n",
    "    def retourner(self, livre):\n",
    "        if livre in self.livres_empruntes:\n",
    "            self.livres_empruntes.remove(livre)\n",
    "            print(f\"{self.prenom} {self.nom} a retourné {livre.titre}.\")\n"
   ]
  },
  {
   "cell_type": "markdown",
   "metadata": {},
   "source": [
    "### b. Méthodes de classe (classmethod)\n",
    "\n",
    "#### Définition\n",
    "\n",
    "Elles sont liées à la classe et non à une instance de la classe. Elles ont accès aux attributs de classe, mais pas aux attributs d'instance. Elles sont généralement utilisées pour créer des constructeurs alternatifs. En Python, on utilise le décorateur @classmethod.\n",
    "\n",
    "#### Exemple\n",
    "Disons que chaque livre a un identifiant unique et une méthode pour incrémenter cet identifiant à chaque fois qu'un nouveau livre est ajouté."
   ]
  },
  {
   "cell_type": "code",
   "execution_count": 8,
   "metadata": {},
   "outputs": [],
   "source": [
    "class Livre:\n",
    "    _id_livre = 0\n",
    "\n",
    "    def __init__(self, titre, auteur):\n",
    "        self.titre = titre\n",
    "        self.auteur = auteur\n",
    "        self.id = Livre._id_livre\n",
    "        Livre.incr_id()\n",
    "\n",
    "    @classmethod\n",
    "    def incr_id(cls):\n",
    "        cls._id_livre += 1"
   ]
  },
  {
   "cell_type": "markdown",
   "metadata": {},
   "source": [
    "Ici, nous venons de découvrir une nouvelle fonctionnalité. \n",
    "\n",
    "Il est possible de définir une variable en dehors d'une méthode, directement dans les classes : les variables de classe.\n",
    "Les variables de classe sont définies en dehors de toute méthode, directement à l'intérieur de la classe. Elles ne sont pas liées à une instance particulière de la classe, mais sont partagées entre toutes les instances. Par conséquent, elles sont souvent utilisées pour des propriétés ou des constantes qui sont communes à toutes les instances de la classe.Dans l'exemple donné, _id_livre est une variable de classe. Elle est destinée à être utilisée comme un compteur qui s'incrémente à chaque fois qu'un nouveau livre est créé. Cela peut être utilisé pour donner un identifiant unique à chaque livre. Chaque fois que nous créons un nouveau livre, la variable de classe _id_livre s'incrémente, garantissant que chaque livre a un id unique."
   ]
  },
  {
   "cell_type": "code",
   "execution_count": 9,
   "metadata": {},
   "outputs": [
    {
     "name": "stdout",
     "output_type": "stream",
     "text": [
      "0\n",
      "1\n"
     ]
    }
   ],
   "source": [
    "livre1 = Livre(\"Anna Karenina\", \"Leo Tolstoy\")\n",
    "print(livre1.id)  # Affiche : 0\n",
    "\n",
    "livre2 = Livre(\"War and Peace\", \"Leo Tolstoy\")\n",
    "print(livre2.id)  # Affiche : 1\n"
   ]
  },
  {
   "cell_type": "markdown",
   "metadata": {},
   "source": [
    "Remarques:\n",
    "\n",
    "- Les variables de classe peuvent être accessibles et modifiées via le nom de la classe (comme Livre._id_livre dans l'exemple ci-dessus) ou via une instance (comme livre1._id_livre), mais il est généralement recommandé d'y accéder via le nom de la classe pour clarifier que c'est une propriété de la classe et non d'une instance spécifique.\n",
    "\n",
    "- Il est courant d'utiliser un underscore _ avant le nom de la variable pour indiquer qu'elle doit être traitée comme \"privée\" et ne pas être modifiée directement en dehors de la classe."
   ]
  },
  {
   "cell_type": "code",
   "execution_count": 17,
   "metadata": {},
   "outputs": [
    {
     "name": "stdout",
     "output_type": "stream",
     "text": [
      "Après la création du premier livre:\n",
      "livre1._id_livre: 1\n",
      "Livre._id_livre: 1\n",
      "\n",
      "Après avoir modifié _id_livre à travers l'instance livre1:\n",
      "livre1._id_livre: 10\n",
      "Livre._id_livre: 1\n",
      "\n",
      "Après la création du second livre:\n",
      "livre2._id_livre: 2\n",
      "Livre._id_livre: 2\n",
      "\n",
      "Après avoir modifié _id_livre à travers la classe Livre:\n",
      "livre2._id_livre: 20\n",
      "Livre._id_livre: 20\n",
      "\n",
      "Après la création du troisieme livre:\n",
      "livre3._id_livre: 21\n",
      "Livre._id_livre: 21\n"
     ]
    }
   ],
   "source": [
    "# Définissons d'abord la classe Livre\n",
    "class Livre:\n",
    "    _id_livre = 0  # Variable de classe\n",
    "\n",
    "    def __init__(self, titre, auteur):\n",
    "        self.titre = titre\n",
    "        self.auteur = auteur\n",
    "        self.id = Livre._id_livre\n",
    "        Livre._id_livre += 1\n",
    "\n",
    "# Créons une instance de Livre\n",
    "livre1 = Livre(\"Anna Karenina\", \"Leo Tolstoy\")\n",
    "\n",
    "# La variable de classe peut être accédée à la fois par l'instance et par la classe elle-même\n",
    "print(\"Après la création du premier livre:\")\n",
    "print(\"livre1._id_livre:\", livre1._id_livre)  # Affiche : 1\n",
    "print(\"Livre._id_livre:\", Livre._id_livre)   # Affiche : 1\n",
    "\n",
    "# Modifions la variable de classe via l'instance\n",
    "livre1._id_livre = 10\n",
    "\n",
    "# Vérifions les valeurs après modification\n",
    "print(\"\\nAprès avoir modifié _id_livre à travers l'instance livre1:\")\n",
    "print(\"livre1._id_livre:\", livre1._id_livre)  # Affiche : 10\n",
    "print(\"Livre._id_livre:\", Livre._id_livre)   # Affiche : 1 (n'a pas été modifié)\n",
    "\n",
    "# Créons une autre instance de Livre\n",
    "livre2 = Livre(\"War and Peace\", \"Leo Tolstoy\")\n",
    "\n",
    "# Vérifions les valeurs\n",
    "print(\"\\nAprès la création du second livre:\")\n",
    "print(\"livre2._id_livre:\", livre2._id_livre)  # Affiche : 2 (car la valeur a été incrémentée lors de la création de l'instance)\n",
    "print(\"Livre._id_livre:\", Livre._id_livre)   # Affiche : 2\n",
    "\n",
    "# Modifions la variable de classe via la classe elle-même\n",
    "Livre._id_livre = 20\n",
    "\n",
    "# Vérifions les valeurs après modification\n",
    "print(\"\\nAprès avoir modifié _id_livre à travers la classe Livre:\")\n",
    "print(\"livre2._id_livre:\", livre2._id_livre)  # Affiche : 2 (la valeur de l'instance ne change pas)\n",
    "print(\"Livre._id_livre:\", Livre._id_livre)   # Affiche : 20\n",
    "\n",
    "\n",
    "# Créons une autre instance de Livre\n",
    "livre3 = Livre(\"L'étranger\", \"Alberet Camus\")\n",
    "\n",
    "# Vérifions les valeurs\n",
    "print(\"\\nAprès la création du troisieme livre:\")\n",
    "print(\"livre3._id_livre:\", livre2._id_livre)  # Affiche : 21 (car la valeur a été incrémentée lors de la création de l'instance depuis la base 20)\n",
    "print(\"Livre._id_livre:\", Livre._id_livre)   # Affiche : 21"
   ]
  },
  {
   "cell_type": "markdown",
   "metadata": {},
   "source": [
    "Ce que vous pouvez observer ici :\n",
    "\n",
    "Quand vous modifiez _id_livre via une instance (comme livre1._id_livre = 10), vous créez en réalité un nouvel attribut d'instance pour livre1 qui \"masque\" la variable de classe. La variable de classe _id_livre reste inchangée.\n",
    "\n",
    "C'est pourquoi, quand vous créez un nouvel objet (livre2), le compteur s'incrémente sur la base de la variable de classe et non sur la valeur modifiée de livre1.\n",
    "\n",
    "Si vous modifiez la variable de classe via la classe elle-même (comme Livre._id_livre = 20), cela affectera tous les futurs objets créés. Cependant, les attributs d'instance existants ne seront pas modifiés."
   ]
  },
  {
   "cell_type": "markdown",
   "metadata": {},
   "source": [
    "## Méthodes statiques (staticmethod)\n",
    "\n",
    "### Définition\n",
    "Ces méthodes n'ont accès ni aux attributs d'instance (self), ni aux attributs de classe (cls). Elles se comportent comme des fonctions normales, sauf qu'elles appartiennent à la classe de l'objet. Elles sont définies à l'aide du décorateur @staticmethod.\n",
    "\n",
    "### Exemple\n",
    "Supposons que dans une bibliothèque, il y a des règles standard pour catégoriser les livres en fonction de leur titre. Par exemple, tous les titres commençant par \"A\" à \"M\" sont stockés dans la section 1, tandis que ceux commençant par \"N\" à \"Z\" sont stockés dans la section 2. Cette règle est indépendante d'un livre spécifique, c'est plutôt une règle générale que la bibliothèque suit. Une telle règle peut être représentée comme une méthode statique.\n"
   ]
  },
  {
   "cell_type": "code",
   "execution_count": 6,
   "metadata": {},
   "outputs": [],
   "source": [
    "class Livre:\n",
    "    def __init__(self, titre, auteur):\n",
    "        self.titre = titre\n",
    "        self.auteur = auteur\n",
    "        self.section = Livre.definir_section(titre)\n",
    "        # ... (autres attributs)\n",
    "    \n",
    "    @staticmethod\n",
    "    def definir_section(titre):\n",
    "        if \"A\" <= titre[0] <= \"M\":\n",
    "            return \"Section 1\"\n",
    "        elif \"N\" <= titre[0] <= \"Z\":\n",
    "            return \"Section 2\"\n",
    "        else:\n",
    "            return \"Section Autre\""
   ]
  },
  {
   "cell_type": "markdown",
   "metadata": {},
   "source": [
    "Avec cet exemple, lorsque nous créons un nouveau Livre, la méthode statique definir_section est appelée avec le titre du livre comme argument pour déterminer sa section. Cette méthode est statique parce qu'elle ne dépend d'aucun attribut ou comportement spécifique à une instance particulière de Livre, mais elle est plutôt basée sur une règle générale de la bibliothèque.\n",
    "\n",
    "Voici comment cela pourrait être utilisé :"
   ]
  },
  {
   "cell_type": "code",
   "execution_count": 7,
   "metadata": {},
   "outputs": [
    {
     "name": "stdout",
     "output_type": "stream",
     "text": [
      "Section 1\n",
      "Section 2\n"
     ]
    }
   ],
   "source": [
    "livre1 = Livre(\"Anna Karenina\", \"Leo Tolstoy\")\n",
    "print(livre1.section)  # Affiche : Section 1\n",
    "\n",
    "livre2 = Livre(\"War and Peace\", \"Leo Tolstoy\")\n",
    "print(livre2.section)  # Affiche : Section 2"
   ]
  },
  {
   "cell_type": "markdown",
   "metadata": {},
   "source": [
    "---\n",
    "\n",
    "### Exercice : Gestion d'une chaîne de restaurants\n",
    "Imaginez que vous gérez une chaîne de restaurants et souhaitez avoir une application pour suivre le nombre de repas vendus dans chaque restaurant et obtenir quelques statistiques.\n",
    "\n",
    "1. Créez une classe Restaurant qui a les attributs suivants :\n",
    "- nom (Nom du restaurant)\n",
    "- ville (Ville où il est situé)\n",
    "- repas_vendus (nombre de repas vendus, initialement à 0)\n",
    "  \n",
    "2. La classe doit également avoir une variable de classe appelée total_repas_vendus pour suivre le nombre total de repas vendus dans tous les restaurants de la chaîne.\n",
    "\n",
    "3. La classe doit avoir les méthodes suivantes :\n",
    "\n",
    "- vendre_repas(self, nombre) : Cette méthode augmentera repas_vendus par le nombre donné et augmentera également la variable de classe total_repas_vendus.\n",
    "- statistiques_restaurant(self) : Cette méthode affichera les statistiques du restaurant, telles que son nom, sa ville et le nombre de repas vendus.\n",
    "  \n",
    "4. Créez une méthode de classe statistiques_chaine qui affiche le nombre total de repas vendus dans toute la chaîne de restaurants.\n",
    "\n",
    "5. Créez une méthode statique evaluer_repas qui prend une note (de 1 à 5) et retourne une appréciation (\"Mauvais\", \"Moyen\", \"Bon\", \"Très bon\", \"Excellent\").\n",
    "\n",
    "Instructions :\n",
    "\n",
    "1. Créez les instances de restaurants suivantes :\n",
    "- restaurant1 avec le nom \"Le Gourmet\", situé à \"Paris\".\n",
    "- restaurant2 avec le nom \"Pasta Delight\", situé à \"Rome\".\n",
    "- restaurant3 avec le nom \"Burger Queen\", situé à \"New York\".\n",
    "2. Vendez 50 repas dans restaurant1, 30 repas dans restaurant2, et 60 repas dans restaurant3 en utilisant la méthode vendre_repas.\n",
    "3. Affichez les statistiques de chaque restaurant individuellement.\n",
    "4. Affichez les statistiques globales de la chaîne de restaurants.\n",
    "5. Évaluez un repas en donnant une note de 4 en utilisant la méthode statique evaluer_repas.\n",
    "\n",
    "---"
   ]
  },
  {
   "cell_type": "markdown",
   "metadata": {},
   "source": [
    "## Aller plus loin avec les classes \n",
    "\n",
    "Voici une liste des concepts et fonctionnalités orientés objet en Python que nous n'avons pas encore abordé en détail :\n",
    "\n",
    "**Variables privées** : En Python, il n'y a pas de moyen strict pour rendre une variable ou une méthode totalement privée. Cependant, en ajoutant deux underscores devant le nom (comme __ma_variable), vous pouvez la rendre \"privée\" dans le sens où elle sera moins accessible de l'extérieur. Ceci est appelé \"mangling\" et le but est de rendre accidentellement difficile la surcharge ou l'accès à cette variable ou méthode depuis une sous-classe ou depuis l'extérieur de la classe.\n",
    "\n",
    "**Getters et Setters :**\n",
    "\n",
    "Getters : Ce sont des méthodes qui permettent d'accéder à la valeur d'une variable privée.\n",
    "Setters : Ce sont des méthodes qui permettent de modifier la valeur d'une variable privée.\n",
    "En Python, les getters et setters sont souvent utilisés en conjonction avec la propriété property.\n",
    "**Les property :** C'est une manière pythonique de définir des getters et setters. Avec property, vous pouvez définir une méthode comme une propriété d'une classe, et lorsqu'elle est appelée, elle agit comme si vous accédiez à un attribut plutôt qu'à une méthode.\n",
    "\n",
    "**Les méthodes du \"dunder\" :** Outre __init__, __str__, et __repr__ que nous avons déjà abordées, il existe de nombreuses autres méthodes spéciales, comme __add__, __eq__, __len__, etc., qui vous permettent de définir des comportements personnalisés pour des opérations courantes.\n",
    "\n",
    "**Méthodes abstraites et classes abstraites :** Une classe abstraite est une classe qui ne peut pas être instanciée et est conçue pour être sous-classée. Les méthodes abstraites dans une classe abstraite doivent être implémentées par toute sous-classe.\n",
    "\n",
    "**Composition et Agrégation :** Ce sont des alternatives à l'héritage qui permettent de construire des classes en utilisant d'autres classes comme composants plutôt que de les sous-classer.\n",
    "\n",
    "**Mixins :** Ce sont des petites classes qui fournissent un ensemble spécifique de fonctionnalités supplémentaires que vous pouvez utiliser pour étendre d'autres classes.\n",
    "\n",
    "**Les décorateurs de classe :** Tout comme il existe des décorateurs de fonction, vous pouvez également définir des décorateurs pour les classes afin d'étendre ou de modifier leur comportement.\n",
    "\n",
    "**Les métaclasses :** Ce sont des classes \"d'un niveau supérieur\" qui définissent le comportement des classes elles-mêmes. C'est un concept avancé et souvent non nécessaire pour la plupart des utilisations courantes.\n",
    "\n",
    "**Encapsulation, Polymorphisme, et Héritage :** Bien que nous ayons déjà abordé ces sujets, il est toujours possible de les explorer plus en profondeur, en particulier leurs applications pratiques et leurs nuances."
   ]
  },
  {
   "cell_type": "markdown",
   "metadata": {},
   "source": []
  }
 ],
 "metadata": {
  "kernelspec": {
   "display_name": "Python 3",
   "language": "python",
   "name": "python3"
  },
  "language_info": {
   "codemirror_mode": {
    "name": "ipython",
    "version": 3
   },
   "file_extension": ".py",
   "mimetype": "text/x-python",
   "name": "python",
   "nbconvert_exporter": "python",
   "pygments_lexer": "ipython3",
   "version": "3.11.2"
  },
  "orig_nbformat": 4
 },
 "nbformat": 4,
 "nbformat_minor": 2
}
