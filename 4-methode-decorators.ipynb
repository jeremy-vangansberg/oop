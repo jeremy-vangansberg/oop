{
 "cells": [
  {
   "cell_type": "markdown",
   "metadata": {},
   "source": [
    "# 1. Introduction aux décorateurs\n",
    "\n",
    "Décors de fonctions:\n",
    "\n",
    "Un décorateur est essentiellement une fonction qui en \"décore\" ou en modifie une autre. Les décorateurs sont une manière élégante de modifier le comportement d'une fonction sans la changer directement. En Python, les décorateurs sont appliqués à l'aide du symbole @ suivi du nom du décorateur.\n",
    "\n",
    "Comment fonctionne un décorateur ?\n",
    "Prenons un décorateur simple comme exemple :"
   ]
  },
  {
   "cell_type": "code",
   "execution_count": 12,
   "metadata": {},
   "outputs": [],
   "source": [
    "def simple_decorator(func):\n",
    "    def wrapper():\n",
    "        print(\"Avant l'appel de la fonction.\")\n",
    "        func()\n",
    "        print(\"Après l'appel de la fonction.\")\n",
    "    return wrapper\n",
    "\n",
    "@simple_decorator\n",
    "def say_hello():\n",
    "    print(\"Hello!\")\n"
   ]
  },
  {
   "cell_type": "code",
   "execution_count": 13,
   "metadata": {},
   "outputs": [
    {
     "name": "stdout",
     "output_type": "stream",
     "text": [
      "Avant l'appel de la fonction.\n",
      "Hello!\n",
      "Après l'appel de la fonction.\n"
     ]
    }
   ],
   "source": [
    "say_hello()"
   ]
  },
  {
   "cell_type": "markdown",
   "metadata": {},
   "source": [
    "Lorsque vous déclarez @simple_decorator au-dessus de say_hello, cela équivaut à dire :"
   ]
  },
  {
   "cell_type": "code",
   "execution_count": 10,
   "metadata": {},
   "outputs": [],
   "source": [
    "say_hello = simple_decorator(say_hello)"
   ]
  },
  {
   "cell_type": "markdown",
   "metadata": {},
   "source": [
    "Ce qui se passe :\n",
    "\n",
    "func : Lorsque vous utilisez un décorateur, la fonction que vous \"décorez\" est passée au décorateur comme argument. Dans cet exemple, func est une référence à say_hello.\n",
    "\n",
    "wrapper : Il s'agit d'une fonction interne (ou de fermeture) qui englobe la fonction originale. Elle permet d'exécuter du code avant et/ou après l'appel de la fonction originale.\n",
    "\n",
    "func() dans le wrapper appelle la fonction originale.\n",
    "\n",
    "Le décorateur retourne le wrapper.\n",
    "\n",
    "Lorsque vous appelez say_hello(), vous appelez en réalité le wrapper qui appelle say_hello à l'intérieur."
   ]
  },
  {
   "cell_type": "markdown",
   "metadata": {},
   "source": [
    "Les mots \"wrapper\" et \"func\" ne sont que des conventions et ne sont en aucun cas des obligations strictes. Vous êtes libre de choisir n'importe quel autre nom pour ces fonctions internes ou pour l'argument de la fonction décoratrice. Cependant, il est courant d'utiliser des noms comme \"wrapper\" ou \"inner\" pour la fonction interne et des noms comme \"func\", \"f\", ou \"function\" pour l'argument de la fonction décoratrice, car ils décrivent clairement leurs rôles respectifs.\n",
    "\n",
    "Voici un exemple pour illustrer ce point :"
   ]
  },
  {
   "cell_type": "code",
   "execution_count": 5,
   "metadata": {},
   "outputs": [],
   "source": [
    "def my_decorator(original_function):\n",
    "    def inner_function():\n",
    "        print(\"Avant l'appel de la fonction.\")\n",
    "        original_function()\n",
    "        print(\"Après l'appel de la fonction.\")\n",
    "    return inner_function\n",
    "\n",
    "@my_decorator\n",
    "def greet():\n",
    "    print(\"Hello!\")"
   ]
  },
  {
   "cell_type": "markdown",
   "metadata": {},
   "source": [
    "Dans cet exemple, \"my_decorator\" est la fonction décoratrice, \"original_function\" est l'argument de la fonction décoratrice (la fonction que vous décorez), et \"inner_function\" est la fonction interne qui enveloppe et modifie le comportement de \"original_function\"."
   ]
  },
  {
   "cell_type": "markdown",
   "metadata": {},
   "source": [
    "Exemple avec arguments:\n",
    "\n",
    "Les décorateurs peuvent également être utilisés avec des fonctions qui prennent des arguments :"
   ]
  },
  {
   "cell_type": "code",
   "execution_count": 14,
   "metadata": {},
   "outputs": [],
   "source": [
    "def decorator_with_args(func):\n",
    "    def wrapper(*args, **kwargs):\n",
    "        print(f\"Arguments : {args}, {kwargs}\")\n",
    "        return func(*args, **kwargs)\n",
    "    return wrapper\n",
    "\n",
    "@decorator_with_args\n",
    "def greet(name, age=None):\n",
    "    if age:\n",
    "        return f\"Hello {name}, you are {age} years old!\"\n",
    "    else:\n",
    "        return f\"Hello {name}!\""
   ]
  },
  {
   "cell_type": "code",
   "execution_count": 15,
   "metadata": {},
   "outputs": [
    {
     "name": "stdout",
     "output_type": "stream",
     "text": [
      "Arguments : ('Camille',), {'age': 31}\n"
     ]
    },
    {
     "data": {
      "text/plain": [
       "'Hello Camille, you are 31 years old!'"
      ]
     },
     "execution_count": 15,
     "metadata": {},
     "output_type": "execute_result"
    }
   ],
   "source": [
    "greet(\"Camille\", age=31)"
   ]
  },
  {
   "cell_type": "markdown",
   "metadata": {},
   "source": [
    "Dans cet exemple :\n",
    "\n",
    "*args et **kwargs dans le wrapper permettent de passer n'importe quel nombre d'arguments positionnels et nommés à la fonction originale.\n",
    "Exercice sur les décorateurs de fonctions:\n",
    "\n",
    "Créez un décorateur nommé execution_time qui mesure et affiche le temps qu'il a fallu pour exécuter la fonction décorée."
   ]
  },
  {
   "cell_type": "code",
   "execution_count": null,
   "metadata": {},
   "outputs": [],
   "source": []
  }
 ],
 "metadata": {
  "kernelspec": {
   "display_name": "Python 3",
   "language": "python",
   "name": "python3"
  },
  "language_info": {
   "codemirror_mode": {
    "name": "ipython",
    "version": 3
   },
   "file_extension": ".py",
   "mimetype": "text/x-python",
   "name": "python",
   "nbconvert_exporter": "python",
   "pygments_lexer": "ipython3",
   "version": "3.11.2"
  },
  "orig_nbformat": 4
 },
 "nbformat": 4,
 "nbformat_minor": 2
}
