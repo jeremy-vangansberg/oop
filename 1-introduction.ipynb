{
 "cells": [
  {
   "cell_type": "markdown",
   "metadata": {},
   "source": [
    "# Programmation orienté objet"
   ]
  },
  {
   "cell_type": "markdown",
   "metadata": {},
   "source": [
    "## Les objets en python"
   ]
  },
  {
   "cell_type": "markdown",
   "metadata": {},
   "source": [
    "Quels sont les objets dans le code suivant ?"
   ]
  },
  {
   "cell_type": "code",
   "execution_count": 14,
   "metadata": {},
   "outputs": [
    {
     "data": {
      "text/plain": [
       "14"
      ]
     },
     "execution_count": 14,
     "metadata": {},
     "output_type": "execute_result"
    }
   ],
   "source": [
    "# Les éléments en python\n",
    "a = 3\n",
    "b = 9\n",
    "c = [4,5]\n",
    "\n",
    "d = 'Hi'\n",
    "\"Hello\"\n",
    "\n",
    "def mutipliby_by_2(x):\n",
    "    return x * 2\n",
    "\n",
    "mutipliby_by_2(7)"
   ]
  },
  {
   "cell_type": "markdown",
   "metadata": {},
   "source": [
    "**Répondre ici**\n",
    "\n",
    "Les objets sont : "
   ]
  },
  {
   "cell_type": "markdown",
   "metadata": {},
   "source": [
    "---"
   ]
  },
  {
   "cell_type": "markdown",
   "metadata": {},
   "source": [
    "En python, il existe 8 elements fondamentaux :\n",
    "- objects (objets)\n",
    "- identifiers (identifiants)\n",
    "- operators (opérateurs)\n",
    "- delimiters (délimiteurs)\n",
    "- keywords (mots-clés)\n",
    "- comments (commentaires)\n",
    "- blank lines (ligne blanche)\n",
    "- white space (espace)\n",
    "- indentation "
   ]
  },
  {
   "cell_type": "markdown",
   "metadata": {},
   "source": [
    "---\n",
    "Solution\n",
    "\n",
    "Les objets sont : 3, 9, 4, 5, 'Hi', 'Hello', function definition, 2, 7, 14\n",
    "\n",
    "Les identifiants sont : a, b, c, d, mutipliby_by_2, x\n",
    "\n",
    "Les opérateurs sont : *\n",
    "\n",
    "Les délimiteurs sont : , [] () '' \"\" =\n",
    "\n",
    "Keywords : def, return\n",
    "\n",
    "Commentaires : # Les éléments en python\n",
    "\n",
    "Voir dans le code pour les espaces, les blanks lines et l'indentation"
   ]
  },
  {
   "cell_type": "markdown",
   "metadata": {},
   "source": [
    "Plus d'opérateurs : https://www.w3schools.com/python/python_operators.asp"
   ]
  },
  {
   "cell_type": "markdown",
   "metadata": {},
   "source": [
    "## Qu'est-ce qu'un objet en python ?"
   ]
  },
  {
   "cell_type": "code",
   "execution_count": 15,
   "metadata": {},
   "outputs": [
    {
     "name": "stdout",
     "output_type": "stream",
     "text": [
      "Requirement already satisfied: folium in ./venv/lib/python3.11/site-packages (0.14.0)\n",
      "Requirement already satisfied: branca>=0.6.0 in ./venv/lib/python3.11/site-packages (from folium) (0.6.0)\n",
      "Requirement already satisfied: jinja2>=2.9 in ./venv/lib/python3.11/site-packages (from folium) (3.1.2)\n",
      "Requirement already satisfied: numpy in ./venv/lib/python3.11/site-packages (from folium) (1.26.1)\n",
      "Requirement already satisfied: requests in ./venv/lib/python3.11/site-packages (from folium) (2.31.0)\n",
      "Requirement already satisfied: MarkupSafe>=2.0 in ./venv/lib/python3.11/site-packages (from jinja2>=2.9->folium) (2.1.3)\n",
      "Requirement already satisfied: charset-normalizer<4,>=2 in ./venv/lib/python3.11/site-packages (from requests->folium) (3.3.1)\n",
      "Requirement already satisfied: idna<4,>=2.5 in ./venv/lib/python3.11/site-packages (from requests->folium) (3.4)\n",
      "Requirement already satisfied: urllib3<3,>=1.21.1 in ./venv/lib/python3.11/site-packages (from requests->folium) (2.0.7)\n",
      "Requirement already satisfied: certifi>=2017.4.17 in ./venv/lib/python3.11/site-packages (from requests->folium) (2023.7.22)\n",
      "\n",
      "\u001b[1m[\u001b[0m\u001b[34;49mnotice\u001b[0m\u001b[1;39;49m]\u001b[0m\u001b[39;49m A new release of pip available: \u001b[0m\u001b[31;49m22.3.1\u001b[0m\u001b[39;49m -> \u001b[0m\u001b[32;49m23.3.1\u001b[0m\n",
      "\u001b[1m[\u001b[0m\u001b[34;49mnotice\u001b[0m\u001b[1;39;49m]\u001b[0m\u001b[39;49m To update, run: \u001b[0m\u001b[32;49mpip install --upgrade pip\u001b[0m\n"
     ]
    }
   ],
   "source": [
    "! pip install folium"
   ]
  },
  {
   "cell_type": "markdown",
   "metadata": {},
   "source": [
    "Quels sont les objets dans le bloc de code ci-dessous ?\n",
    "Ma réponse : "
   ]
  },
  {
   "cell_type": "code",
   "execution_count": 16,
   "metadata": {},
   "outputs": [],
   "source": [
    "un_entier = 3\n",
    "une_liste = [7,2]\n",
    "une_string = 'Bonjour'\n",
    "\n",
    "import folium\n",
    "valenciennes = folium.folium.Map(location=[50.37, 3.53], # A noter ici, il est possible de retourner à la \n",
    "                  zoom_start=10)           # ligne après une virgule, python le comprend."
   ]
  },
  {
   "cell_type": "code",
   "execution_count": 17,
   "metadata": {},
   "outputs": [],
   "source": [
    "test = folium"
   ]
  },
  {
   "cell_type": "code",
   "execution_count": 18,
   "metadata": {},
   "outputs": [
    {
     "name": "stdout",
     "output_type": "stream",
     "text": [
      "<class 'module'>\n"
     ]
    }
   ],
   "source": [
    "print(type(test))"
   ]
  },
  {
   "cell_type": "code",
   "execution_count": 19,
   "metadata": {},
   "outputs": [
    {
     "data": {
      "text/html": [
       "<div style=\"width:100%;\"><div style=\"position:relative;width:100%;height:0;padding-bottom:60%;\"><span style=\"color:#565656\">Make this Notebook Trusted to load map: File -> Trust Notebook</span><iframe srcdoc=\"&lt;!DOCTYPE html&gt;\n",
       "&lt;html&gt;\n",
       "&lt;head&gt;\n",
       "    \n",
       "    &lt;meta http-equiv=&quot;content-type&quot; content=&quot;text/html; charset=UTF-8&quot; /&gt;\n",
       "    \n",
       "        &lt;script&gt;\n",
       "            L_NO_TOUCH = false;\n",
       "            L_DISABLE_3D = false;\n",
       "        &lt;/script&gt;\n",
       "    \n",
       "    &lt;style&gt;html, body {width: 100%;height: 100%;margin: 0;padding: 0;}&lt;/style&gt;\n",
       "    &lt;style&gt;#map {position:absolute;top:0;bottom:0;right:0;left:0;}&lt;/style&gt;\n",
       "    &lt;script src=&quot;https://cdn.jsdelivr.net/npm/leaflet@1.9.3/dist/leaflet.js&quot;&gt;&lt;/script&gt;\n",
       "    &lt;script src=&quot;https://code.jquery.com/jquery-1.12.4.min.js&quot;&gt;&lt;/script&gt;\n",
       "    &lt;script src=&quot;https://cdn.jsdelivr.net/npm/bootstrap@5.2.2/dist/js/bootstrap.bundle.min.js&quot;&gt;&lt;/script&gt;\n",
       "    &lt;script src=&quot;https://cdnjs.cloudflare.com/ajax/libs/Leaflet.awesome-markers/2.0.2/leaflet.awesome-markers.js&quot;&gt;&lt;/script&gt;\n",
       "    &lt;link rel=&quot;stylesheet&quot; href=&quot;https://cdn.jsdelivr.net/npm/leaflet@1.9.3/dist/leaflet.css&quot;/&gt;\n",
       "    &lt;link rel=&quot;stylesheet&quot; href=&quot;https://cdn.jsdelivr.net/npm/bootstrap@5.2.2/dist/css/bootstrap.min.css&quot;/&gt;\n",
       "    &lt;link rel=&quot;stylesheet&quot; href=&quot;https://netdna.bootstrapcdn.com/bootstrap/3.0.0/css/bootstrap.min.css&quot;/&gt;\n",
       "    &lt;link rel=&quot;stylesheet&quot; href=&quot;https://cdn.jsdelivr.net/npm/@fortawesome/fontawesome-free@6.2.0/css/all.min.css&quot;/&gt;\n",
       "    &lt;link rel=&quot;stylesheet&quot; href=&quot;https://cdnjs.cloudflare.com/ajax/libs/Leaflet.awesome-markers/2.0.2/leaflet.awesome-markers.css&quot;/&gt;\n",
       "    &lt;link rel=&quot;stylesheet&quot; href=&quot;https://cdn.jsdelivr.net/gh/python-visualization/folium/folium/templates/leaflet.awesome.rotate.min.css&quot;/&gt;\n",
       "    \n",
       "            &lt;meta name=&quot;viewport&quot; content=&quot;width=device-width,\n",
       "                initial-scale=1.0, maximum-scale=1.0, user-scalable=no&quot; /&gt;\n",
       "            &lt;style&gt;\n",
       "                #map_bbedb6b6962b69bba5c452a6744ed11c {\n",
       "                    position: relative;\n",
       "                    width: 100.0%;\n",
       "                    height: 100.0%;\n",
       "                    left: 0.0%;\n",
       "                    top: 0.0%;\n",
       "                }\n",
       "                .leaflet-container { font-size: 1rem; }\n",
       "            &lt;/style&gt;\n",
       "        \n",
       "&lt;/head&gt;\n",
       "&lt;body&gt;\n",
       "    \n",
       "    \n",
       "            &lt;div class=&quot;folium-map&quot; id=&quot;map_bbedb6b6962b69bba5c452a6744ed11c&quot; &gt;&lt;/div&gt;\n",
       "        \n",
       "&lt;/body&gt;\n",
       "&lt;script&gt;\n",
       "    \n",
       "    \n",
       "            var map_bbedb6b6962b69bba5c452a6744ed11c = L.map(\n",
       "                &quot;map_bbedb6b6962b69bba5c452a6744ed11c&quot;,\n",
       "                {\n",
       "                    center: [50.37, 3.53],\n",
       "                    crs: L.CRS.EPSG3857,\n",
       "                    zoom: 10,\n",
       "                    zoomControl: true,\n",
       "                    preferCanvas: false,\n",
       "                }\n",
       "            );\n",
       "\n",
       "            \n",
       "\n",
       "        \n",
       "    \n",
       "            var tile_layer_6b24d7fe49505c3f026ae4790fbec749 = L.tileLayer(\n",
       "                &quot;https://{s}.tile.openstreetmap.org/{z}/{x}/{y}.png&quot;,\n",
       "                {&quot;attribution&quot;: &quot;Data by \\u0026copy; \\u003ca target=\\&quot;_blank\\&quot; href=\\&quot;http://openstreetmap.org\\&quot;\\u003eOpenStreetMap\\u003c/a\\u003e, under \\u003ca target=\\&quot;_blank\\&quot; href=\\&quot;http://www.openstreetmap.org/copyright\\&quot;\\u003eODbL\\u003c/a\\u003e.&quot;, &quot;detectRetina&quot;: false, &quot;maxNativeZoom&quot;: 18, &quot;maxZoom&quot;: 18, &quot;minZoom&quot;: 0, &quot;noWrap&quot;: false, &quot;opacity&quot;: 1, &quot;subdomains&quot;: &quot;abc&quot;, &quot;tms&quot;: false}\n",
       "            ).addTo(map_bbedb6b6962b69bba5c452a6744ed11c);\n",
       "        \n",
       "&lt;/script&gt;\n",
       "&lt;/html&gt;\" style=\"position:absolute;width:100%;height:100%;left:0;top:0;border:none !important;\" allowfullscreen webkitallowfullscreen mozallowfullscreen></iframe></div></div>"
      ],
      "text/plain": [
       "<folium.folium.Map at 0x107f8a590>"
      ]
     },
     "execution_count": 19,
     "metadata": {},
     "output_type": "execute_result"
    }
   ],
   "source": [
    "valenciennes"
   ]
  },
  {
   "cell_type": "markdown",
   "metadata": {},
   "source": [
    "Les objets : 3, [7,2], 7, 2, 'Bonjour', \n",
    "folium.folium.Map(location=(50.37, 3.53), zoom_start=6), (50.37, 3.53), 50.37, 3.53, 6"
   ]
  },
  {
   "cell_type": "code",
   "execution_count": 20,
   "metadata": {},
   "outputs": [
    {
     "name": "stdout",
     "output_type": "stream",
     "text": [
      "<class 'int'> <class 'list'> <class 'str'> <class 'folium.folium.Map'>\n"
     ]
    }
   ],
   "source": [
    "print(type(un_entier), type(une_liste), type(une_string), type(valenciennes))"
   ]
  },
  {
   "cell_type": "code",
   "execution_count": 21,
   "metadata": {},
   "outputs": [
    {
     "name": "stdout",
     "output_type": "stream",
     "text": [
      "<class 'int'> <class 'list'> <class 'str'> <class 'folium.folium.Map'>\n"
     ]
    }
   ],
   "source": [
    "print(type(3), type([7, 2]), type('Bonjour'), type(folium.folium.Map(location=[50.37, 3.53], zoom_start=10)))"
   ]
  },
  {
   "cell_type": "markdown",
   "metadata": {},
   "source": [
    "Donc des éléments aussi différent que `3` et `folium.folium.Map(location=[50.37, 3.53], zoom_start=10)` sont tous les deux des objets.\n",
    "\n",
    "En effet Examinons deux types de syntaxe :"
   ]
  },
  {
   "cell_type": "code",
   "execution_count": 22,
   "metadata": {},
   "outputs": [
    {
     "data": {
      "text/plain": [
       "True"
      ]
     },
     "execution_count": 22,
     "metadata": {},
     "output_type": "execute_result"
    }
   ],
   "source": [
    "int('5') == 5 == int(5)"
   ]
  },
  {
   "cell_type": "markdown",
   "metadata": {},
   "source": [
    "Ici nous créons un objet à l'aide d'une classe, la classe `int`. Voici d'autres classes :"
   ]
  },
  {
   "cell_type": "code",
   "execution_count": 23,
   "metadata": {},
   "outputs": [
    {
     "data": {
      "text/plain": [
       "[5, 2]"
      ]
     },
     "execution_count": 23,
     "metadata": {},
     "output_type": "execute_result"
    }
   ],
   "source": [
    "list((5,2))"
   ]
  },
  {
   "cell_type": "code",
   "execution_count": 24,
   "metadata": {},
   "outputs": [
    {
     "data": {
      "text/plain": [
       "'hi'"
      ]
     },
     "execution_count": 24,
     "metadata": {},
     "output_type": "execute_result"
    }
   ],
   "source": [
    "str(object=\"hi\")"
   ]
  },
  {
   "cell_type": "markdown",
   "metadata": {},
   "source": [
    "En faite, écrire `5` au lieu de `int(5)` est un raccourci destiné aux développeurs.\n",
    "\n",
    "Donc maintenant vous comprenez mieux pourquoi deux éléments aussi différents que `5` et `folium.folium.Map(location=[50.37, 3.53], zoom_start=10)` sont des objets.\n",
    "\n",
    "On peut considérer un objet comme atome. Qui a des propriétés qui lui sont propres."
   ]
  },
  {
   "cell_type": "code",
   "execution_count": 25,
   "metadata": {},
   "outputs": [
    {
     "data": {
      "text/plain": [
       "'hi'"
      ]
     },
     "execution_count": 25,
     "metadata": {},
     "output_type": "execute_result"
    }
   ],
   "source": [
    "\"Hi\".lower()"
   ]
  },
  {
   "cell_type": "code",
   "execution_count": 26,
   "metadata": {},
   "outputs": [],
   "source": [
    "folium.folium.Map(location=[50.37, 3.53], zoom_start=10).save(\"output.html\")"
   ]
  },
  {
   "cell_type": "markdown",
   "metadata": {},
   "source": [
    "Pour pouvoir accéder à tous les propriétés d'un objet on peut inspecter son code source."
   ]
  },
  {
   "cell_type": "code",
   "execution_count": 27,
   "metadata": {},
   "outputs": [
    {
     "data": {
      "text/plain": [
       "'/Users/jeremyvangansbeg/Documents/project/oop/venv/lib/python3.11/site-packages/folium/__init__.py'"
      ]
     },
     "execution_count": 27,
     "metadata": {},
     "output_type": "execute_result"
    }
   ],
   "source": [
    "folium.__file__ # ou faire clique droit \"Go to definition\""
   ]
  },
  {
   "cell_type": "markdown",
   "metadata": {},
   "source": [
    "Exercice trouver la liste des arguments possibles de l'objet folium.folium.Map"
   ]
  },
  {
   "cell_type": "markdown",
   "metadata": {},
   "source": [
    "## Qui a créé ces classes ?"
   ]
  },
  {
   "cell_type": "markdown",
   "metadata": {},
   "source": [
    "- class built-in : Celle-ci sont définies par l'équipe qui gère le langage python. Il n'est pas nécessaire d'installer à package externe\n",
    "- les classes issues de package : comme dans les packages folium ou un pandas. Une équipe de développeur ont créé des classes\n",
    "- les classes créées par vous-même : Vous pouvez créer vos propres classes dans vos projets. A note que vous pouvez également créer votre propre package et partager votre travail à la communauté."
   ]
  },
  {
   "cell_type": "markdown",
   "metadata": {},
   "source": [
    "## Vocabulaire"
   ]
  },
  {
   "cell_type": "markdown",
   "metadata": {},
   "source": [
    "Métaphore cullinère:\n",
    "- une classe : la recette du \"gateau\"\n",
    "- une instanciation de classe : la préparation d'un gateau à partir de la recette.\n",
    "- un objet ou une instance de classe : un gateau avec un cetain gout et un certain nombre de parts.\n",
    "\n",
    "On comprend qu'avec une recette on peut créer une infinité de gateaux.\n",
    "\n",
    "Une classe peut contenir:\n",
    "- des attributs\n",
    "- des méthodes"
   ]
  },
  {
   "cell_type": "markdown",
   "metadata": {},
   "source": [
    "## Point Pep 8"
   ]
  },
  {
   "cell_type": "markdown",
   "metadata": {},
   "source": [
    "Comment nommer ce dont on se sert:\n",
    "- **`Class names`**: on utilise le `CamelCase`\n",
    "- **`Method names and attribute names`**  : on utilise le `snake_case`"
   ]
  },
  {
   "cell_type": "markdown",
   "metadata": {},
   "source": [
    "## Apprendre la programmation Orientée Objet avec un scénario"
   ]
  },
  {
   "cell_type": "markdown",
   "metadata": {},
   "source": [
    "En utilisant la programmation orienté objet, développer le programme suivant :\n",
    "- Le programme génère un rectangle aléatoire et indique les coordonnées du point en bas à gauche et en haut à droite par exemple : \n",
    "  - *Rectangle Coordinates:  7 , 7 and 17 , 11*\n",
    "- Le programme demande à l'utilisateur de trouver un point qui se trouve à l'intérieur de ce rectangle.\n",
    "  - *Guess x:*\n",
    "  - *Guess y:*\n",
    "- Enfin le programme indique si le point ce trouve oui ou non dans le rectangle :\n",
    "  - *Your point was inside rectangle: True*\n",
    "\n",
    "On peut résumer le programme comme cela : \n",
    "Le programme affiche les coordonnées d'un rectangle. L'utilisateur doit entrer les coordonnées d'un point.\n",
    "\n",
    "La programmation orientée objet nécessite une phase de préparation. Vous devez vous posez la question suivante : quels sont les objets (donc les classes) de l'énoncé ci-dessous ? Basez-vous sur le résumé du programme pour définir les objets."
   ]
  },
  {
   "cell_type": "markdown",
   "metadata": {},
   "source": [
    "Les objets sont : "
   ]
  },
  {
   "cell_type": "markdown",
   "metadata": {},
   "source": [
    "---"
   ]
  },
  {
   "cell_type": "markdown",
   "metadata": {},
   "source": [
    "Les objets sont les suivants :\n",
    "- message -> string **\"Bonjour\"**\n",
    "- coordonnées -> float **3.14**\n",
    "- rectangle -> ?\n",
    "- point -> ?\n",
    "\n",
    "Les deux premiers objets sont déjà des classes built-in. Il nous faut donc créer les objets **rectangle** et **point**."
   ]
  },
  {
   "cell_type": "markdown",
   "metadata": {},
   "source": [
    "Les étapes de la programamtion orienté objet :\n",
    "1. Ecrire les objets sur un fichier texte ou une feuille\n",
    "2. Ecrire les classes pour chacun des objets\n",
    "3. Ecrire les méthodes pour chaque classe\n",
    "4. Appeler les classes et les méthodes"
   ]
  },
  {
   "cell_type": "markdown",
   "metadata": {},
   "source": [
    "### Création des classes"
   ]
  },
  {
   "cell_type": "code",
   "execution_count": 28,
   "metadata": {},
   "outputs": [],
   "source": [
    "class Point:\n",
    "    pass"
   ]
  },
  {
   "cell_type": "markdown",
   "metadata": {},
   "source": [
    "Quels sont les attributs d'un point ? Les coordonnées !\n",
    "\n",
    "Pour associer ces attributs à la classe Point, nous avons besoin d'une méthode speciale, la class `__init__`"
   ]
  },
  {
   "cell_type": "code",
   "execution_count": 29,
   "metadata": {},
   "outputs": [],
   "source": [
    "class Point:\n",
    "    def __init__() :\n",
    "        pass"
   ]
  },
  {
   "cell_type": "markdown",
   "metadata": {},
   "source": [
    "Comment fonctionne cette méthode spéciale ?"
   ]
  },
  {
   "cell_type": "code",
   "execution_count": 77,
   "metadata": {},
   "outputs": [],
   "source": [
    "class Point:\n",
    "    def __init__(self, x_param, y_param) :\n",
    "        self.x = x_param\n",
    "        self.y = y_param"
   ]
  },
  {
   "cell_type": "code",
   "execution_count": 79,
   "metadata": {},
   "outputs": [
    {
     "data": {
      "text/plain": [
       "8"
      ]
     },
     "execution_count": 79,
     "metadata": {},
     "output_type": "execute_result"
    }
   ],
   "source": [
    "point1 = Point(x_param=4, y_param=8)\n",
    "point1.y"
   ]
  },
  {
   "cell_type": "markdown",
   "metadata": {},
   "source": [
    "Nous verrons plus bas le fonctionnement de l'argument **self**. Ignorons-le pour le moment. Comment utiliser cette classe ?"
   ]
  },
  {
   "cell_type": "code",
   "execution_count": 31,
   "metadata": {},
   "outputs": [],
   "source": [
    "point1 = Point(5,4)\n",
    "# or \n",
    "point1 = Point(x=5, y=4)"
   ]
  },
  {
   "cell_type": "markdown",
   "metadata": {},
   "source": [
    "Ici, nous venons de créer une instance appeler **point1** de la classe **Point**."
   ]
  },
  {
   "cell_type": "code",
   "execution_count": 32,
   "metadata": {},
   "outputs": [
    {
     "data": {
      "text/plain": [
       "__main__.Point"
      ]
     },
     "execution_count": 32,
     "metadata": {},
     "output_type": "execute_result"
    }
   ],
   "source": [
    "type(point1)"
   ]
  },
  {
   "cell_type": "markdown",
   "metadata": {},
   "source": [
    "Nous verrons plus bas à quoi correspond `__main__`"
   ]
  },
  {
   "cell_type": "markdown",
   "metadata": {},
   "source": [
    "---\n",
    "Exercice 1 (Entreprise de peinture) : Création d'une classe\n",
    "\n",
    "Ceci est le premier exercice d'une série d'exercices au cours desquels vous pratiquerez les classes et la programmation orientée objet.\n",
    "\n",
    "\n",
    "\n",
    "Dans cette série, supposons que vous venez d'être embauché comme programmeur dans une entreprise qui vend de la peinture pour les murs. L'entreprise reçoit des visites de clients qui veulent peindre leur maison.\n",
    "\n",
    "\n",
    "Votre tâche en tant que programmeur est de créer un programme qui calcule le nombre de seaux de peinture dont un client a besoin pour peindre sa surface murale. Pour réaliser ce programme, nous devons créer une classe Paint et une classe House.\n",
    "\n",
    "Procédons étape par étape. Pour l'instant, votre tâche consiste à :\n",
    "\n",
    "1. Créer un script exo-oop.py.\n",
    "2. Créer une classe Maison qui possède une méthode `__init__`.\n",
    "\n",
    "3. La méthode `__init__` doit avoir un paramètre `self` et un paramètre `wall_area`.\n",
    "\n",
    "---"
   ]
  },
  {
   "cell_type": "markdown",
   "metadata": {},
   "source": [
    "---"
   ]
  },
  {
   "cell_type": "markdown",
   "metadata": {},
   "source": [
    "### Création d'objet à partir d'une classe"
   ]
  },
  {
   "cell_type": "markdown",
   "metadata": {},
   "source": [
    "A partir d'une classe, on peut créer plusieurs objets :"
   ]
  },
  {
   "cell_type": "code",
   "execution_count": 33,
   "metadata": {},
   "outputs": [],
   "source": [
    "class Point:\n",
    "    def __init__(self, x, y) :\n",
    "        self.x = x\n",
    "        self.y = y\n",
    "\n",
    "point1 = Point(5,4)\n",
    "point2 = Point(1,1)\n",
    "point3 = Point(7,2)\n",
    "point4 = Point(6,8)"
   ]
  },
  {
   "cell_type": "code",
   "execution_count": 34,
   "metadata": {},
   "outputs": [
    {
     "data": {
      "text/plain": [
       "__main__.Point"
      ]
     },
     "execution_count": 34,
     "metadata": {},
     "output_type": "execute_result"
    }
   ],
   "source": [
    "type(point1)"
   ]
  },
  {
   "cell_type": "markdown",
   "metadata": {},
   "source": [
    "---\n",
    "## Qu'est-ce que `__main__`?\n",
    "\n",
    "En Python, `__main__` est le nom du scope (espace de noms) dans lequel le script d'exécution principal est exécuté. Si un fichier est exécuté en tant que script principal (et non importé comme un module), alors la variable `__name__` du fichier est définie sur '`__main__`'.\n",
    "\n",
    "## Voici un scénario pour clarifier cela :\n",
    "### 1. Sans le bloc if __name__ == \"`__main__`\":\n",
    "Créez un fichier appelé module1.py :"
   ]
  },
  {
   "cell_type": "code",
   "execution_count": 35,
   "metadata": {},
   "outputs": [
    {
     "name": "stdout",
     "output_type": "stream",
     "text": [
      "Fonction du module1\n"
     ]
    }
   ],
   "source": [
    "def fonction():\n",
    "    print(\"Fonction du module1\")\n",
    "\n",
    "fonction()"
   ]
  },
  {
   "cell_type": "markdown",
   "metadata": {},
   "source": [
    "Créez ensuite un autre fichier appelé main_script.py :"
   ]
  },
  {
   "cell_type": "code",
   "execution_count": 36,
   "metadata": {},
   "outputs": [
    {
     "ename": "ModuleNotFoundError",
     "evalue": "No module named 'module1'",
     "output_type": "error",
     "traceback": [
      "\u001b[0;31m---------------------------------------------------------------------------\u001b[0m",
      "\u001b[0;31mModuleNotFoundError\u001b[0m                       Traceback (most recent call last)",
      "\u001b[1;32m/Users/jeremyvangansbeg/Documents/project/oop/1-introduction.ipynb Cell 63\u001b[0m line \u001b[0;36m1\n\u001b[0;32m----> <a href='vscode-notebook-cell:/Users/jeremyvangansbeg/Documents/project/oop/1-introduction.ipynb#Y116sZmlsZQ%3D%3D?line=0'>1</a>\u001b[0m \u001b[39mimport\u001b[39;00m \u001b[39mmodule1\u001b[39;00m\n\u001b[1;32m      <a href='vscode-notebook-cell:/Users/jeremyvangansbeg/Documents/project/oop/1-introduction.ipynb#Y116sZmlsZQ%3D%3D?line=2'>3</a>\u001b[0m \u001b[39mprint\u001b[39m(\u001b[39m\"\u001b[39m\u001b[39mCeci est le script principal.\u001b[39m\u001b[39m\"\u001b[39m)\n",
      "\u001b[0;31mModuleNotFoundError\u001b[0m: No module named 'module1'"
     ]
    }
   ],
   "source": [
    "import module1\n",
    "\n",
    "print(\"Ceci est le script principal.\")"
   ]
  },
  {
   "cell_type": "markdown",
   "metadata": {},
   "source": [
    "Lorsque vous exécutez module1.py directement, il affichera :\n",
    "\n",
    "`Ceci est la fonction de module1.`\n",
    "\n",
    "Mais, si vous exécutez main_script.py, il affichera :\n",
    "\n",
    "`Ceci est la fonction de module1.`\n",
    "\n",
    "`Ceci est le script principal.`\n",
    "\n",
    "Cela montre que la fonction print_message() dans module1.py est exécutée lors de l'importation de module1 dans main_script.py."
   ]
  },
  {
   "cell_type": "markdown",
   "metadata": {},
   "source": [
    "## 2. Avec le bloc if __name__ == \"`__main__`\":\n",
    "\n",
    "Modifiez module1.py pour ressembler à :\n",
    "\n"
   ]
  },
  {
   "cell_type": "code",
   "execution_count": 37,
   "metadata": {},
   "outputs": [
    {
     "name": "stdout",
     "output_type": "stream",
     "text": [
      "Fonction du script\n"
     ]
    }
   ],
   "source": [
    "def fonction():\n",
    "    print(\"Fonction du script\")\n",
    "    \n",
    "if __name__ == \"__main__\":\n",
    "    fonction()"
   ]
  },
  {
   "cell_type": "markdown",
   "metadata": {},
   "source": [
    "Maintenant, lorsque vous exécutez module1.py directement, il affichera toujours :\n",
    "\n",
    "\n",
    "`Ceci est la fonction de module1.`\n",
    "\n",
    "Cependant, si vous exécutez main_script.py, il affichera seulement :\n",
    "\n",
    "\n",
    "`Ceci est le script principal.`\n",
    "\n",
    "La fonction print_message() dans module1.py n'est pas exécutée cette fois lors de l'importation de module1 dans main_script.py, grâce à la condition if `__name__` == \"`__main__`\":.\n",
    "\n",
    "---\n",
    "Lorsque l'on importe une classe depuis un autre script python le nom `__main__` est remplacé par le nom du fichier."
   ]
  },
  {
   "cell_type": "markdown",
   "metadata": {},
   "source": [
    "Pour bien comprendre, nous allons créer un fichier \"geometry.py\" contenant le code suivant :"
   ]
  },
  {
   "cell_type": "code",
   "execution_count": 38,
   "metadata": {},
   "outputs": [
    {
     "name": "stdout",
     "output_type": "stream",
     "text": [
      "<class '__main__.Point2'>\n"
     ]
    }
   ],
   "source": [
    "class Point2:\n",
    "    def __init__(self, x, y) :\n",
    "        self.x = x\n",
    "        self.y = y\n",
    "\n",
    "another_point = Point2(5,6)\n",
    "print(type(another_point))"
   ]
  },
  {
   "cell_type": "code",
   "execution_count": 39,
   "metadata": {},
   "outputs": [
    {
     "name": "stdout",
     "output_type": "stream",
     "text": [
      "<class 'exercices.geometry.Point2'>\n"
     ]
    }
   ],
   "source": [
    "from exercices.geometry import Point2\n",
    "\n",
    "another_point = Point2(5,6)\n",
    "print(type(another_point))"
   ]
  },
  {
   "cell_type": "markdown",
   "metadata": {},
   "source": [
    "Le premier terme correspond au nom du fichier (le script python). La logique est la même par exemple pour les autres packages."
   ]
  },
  {
   "cell_type": "code",
   "execution_count": 40,
   "metadata": {},
   "outputs": [
    {
     "name": "stdout",
     "output_type": "stream",
     "text": [
      "<class 'folium.folium.Map'>\n"
     ]
    }
   ],
   "source": [
    "print(type(valenciennes))"
   ]
  },
  {
   "cell_type": "markdown",
   "metadata": {},
   "source": [
    "### Le `self`"
   ]
  },
  {
   "cell_type": "code",
   "execution_count": 146,
   "metadata": {},
   "outputs": [],
   "source": [
    "class Point:\n",
    "    def __init__(self, x, y) :\n",
    "        self.x = x\n",
    "        self.y = y"
   ]
  },
  {
   "cell_type": "markdown",
   "metadata": {},
   "source": [
    "L'argument **`self`** est une référence à l'instance courante de la classe. En d'autres termes, lorsque vous créez une instance d'une classe, **`self`** est utilisé pour accéder aux attributs et méthodes de cette instance spécifique."
   ]
  },
  {
   "cell_type": "code",
   "execution_count": 42,
   "metadata": {},
   "outputs": [],
   "source": [
    "class Point:\n",
    "    def __init__(self, x, y) :\n",
    "        self.x = x\n",
    "        self.y = y\n",
    "        print(\"Voici ce que contient self :\", self)"
   ]
  },
  {
   "cell_type": "code",
   "execution_count": 43,
   "metadata": {},
   "outputs": [
    {
     "name": "stdout",
     "output_type": "stream",
     "text": [
      "Voici ce que contient self : <__main__.Point object at 0x118313b90>\n"
     ]
    }
   ],
   "source": [
    "point1 = Point(3,4)"
   ]
  },
  {
   "cell_type": "markdown",
   "metadata": {},
   "source": [
    "Ici nous avons 3 objets : 3, 4 et Point. \n",
    "\n",
    "- self -> Point(3,4)\n",
    "- x -> 3\n",
    "- y -> 4"
   ]
  },
  {
   "cell_type": "markdown",
   "metadata": {},
   "source": [
    "Et pourquoi utiliser cette syntaxe  ? \n",
    "\n",
    "`self.x = x`\n",
    "\n",
    "`self.y = y`\n",
    "\n",
    "Et bien grâce à elle, on peut accéder aux attributs d'une classe avec la syntaxe suivante :"
   ]
  },
  {
   "cell_type": "code",
   "execution_count": 44,
   "metadata": {},
   "outputs": [
    {
     "name": "stdout",
     "output_type": "stream",
     "text": [
      "3\n",
      "4\n"
     ]
    }
   ],
   "source": [
    "print(point1.x)\n",
    "print(point1.y)"
   ]
  },
  {
   "cell_type": "code",
   "execution_count": 45,
   "metadata": {},
   "outputs": [
    {
     "name": "stdout",
     "output_type": "stream",
     "text": [
      "Voici ce que contient self : <__main__.Point object at 0x1181e6850>\n",
      "3\n",
      "Voici ce que contient self : <__main__.Point object at 0x1181e6850>\n",
      "4\n"
     ]
    }
   ],
   "source": [
    "print(Point(3,4).x)\n",
    "print(Point(3,4).y)"
   ]
  },
  {
   "cell_type": "markdown",
   "metadata": {},
   "source": [
    "Autre point sur self"
   ]
  },
  {
   "cell_type": "code",
   "execution_count": null,
   "metadata": {},
   "outputs": [],
   "source": [
    "class Point:\n",
    "    def __init__(self, x, y) :\n",
    "        self.x = x\n",
    "        self.y = y\n",
    "        print(\"Voici ce que contient self :\", self)\n",
    "\n",
    "# Dans cette syntaxe les noms de variable dans la méthode init\n",
    "# n'ont pas besoin d'avoir les mêmes noms que les attributs de la classe\n",
    "# On peut les changer comme ci-dessous.\n",
    "# Toutefois, c'est une meilleur pratique de garder le même nom.\n",
    "\n",
    "class Point:\n",
    "    def __init__(self, a, b) :\n",
    "        self.x = a\n",
    "        self.y = b\n",
    "        print(\"Voici ce que contient self :\", self)\n",
    "\n"
   ]
  },
  {
   "cell_type": "markdown",
   "metadata": {},
   "source": [
    "## Analogie du \"Téléphone portable\"\n",
    "\n",
    "Imaginez que vous dirigez un magasin qui vend des téléphones portables. Chaque téléphone portable (instance) est un produit (objet) de la même marque (classe). Lorsqu'un client achète un téléphone, il souhaite personnaliser ce téléphone en y ajoutant ses contacts, ses photos, ses applications, etc.\n",
    "\n",
    "Maintenant, lorsque le client souhaite, par exemple, ajouter un nouveau contact, il doit le faire sur SON téléphone et non sur tous les autres téléphones du magasin. Pour cela, il doit ouvrir SON téléphone (instance spécifique) et y ajouter le contact.\n",
    "\n",
    "Dans cette analogie :\n",
    "\n",
    "Le téléphone est une instance de la classe \"Téléphone portable\".\n",
    "Chaque téléphone a des caractéristiques (comme la liste de contacts, les photos, etc.) qui sont ses attributs.\n",
    "Les actions que l'on peut effectuer avec le téléphone, comme ajouter un contact ou prendre une photo, sont les méthodes de la classe.\n",
    "Lorsque le client (ou un programme) souhaite utiliser une méthode (par exemple, ajouter un contact), il doit préciser sur quel téléphone (instance) cette action doit être effectuée. Le mot-clé self en Python est comme dire : \"Sur CE téléphone précis que je tiens actuellement, je souhaite réaliser cette action.\"\n",
    "\n",
    "En d'autres termes, self est une manière pour chaque téléphone (instance) de se référer à lui-même. C'est une manière pour l'objet de dire: \"Je parle de moi-même, pas des autres téléphones du magasin.\""
   ]
  },
  {
   "cell_type": "markdown",
   "metadata": {},
   "source": [
    "### Peut-on utiliser un autre mot à la place de self ?\n",
    "\n",
    "Techniquement, oui. self est une convention, pas une obligation. Vous pourriez le remplacer par moi, this ou tout autre nom. Cependant, il est fortement recommandé d'utiliser self car c'est la convention largement acceptée et cela rend le code plus lisible pour d'autres développeurs.\n",
    "\n",
    "### Pourquoi self et pas un autre mot ?\n",
    "\n",
    "C'est principalement une convention en Python. Dans d'autres langages, comme Java ou C++, le mot-clé équivalent est this. Python a choisi d'utiliser explicitement self comme premier argument pour rendre le code plus clair."
   ]
  },
  {
   "cell_type": "code",
   "execution_count": 151,
   "metadata": {},
   "outputs": [],
   "source": [
    "# Il est tout a fait possible de choisir un autre nom de variable pour self\n",
    "# toutefois il est impératif de respecter la convention en utilisant \"self\"\n",
    "class Point:\n",
    "    def __init__(this_object, x, y) :\n",
    "        this_object.x = x\n",
    "        this_object.y = y"
   ]
  },
  {
   "cell_type": "markdown",
   "metadata": {},
   "source": [
    "---\n",
    "## Exo 2 (Entreprise de peinture) :\n",
    "Création d'une autre classe\n",
    "Le programme que nous construisons sert à calculer la quantité de peinture nécessaire pour une maison. Nous parlons donc de maisons et de peintures. Nous avons donc besoin d'un type House qui crée des instances de maison et d'un type Paint qui crée des instances de peinture. C'est simple, n'est-ce pas ?\n",
    "\n",
    "Nous avons déjà un type House, mais pas de type Paint. Votre tâche pour cet exercice est de :\n",
    "\n",
    "1. Créer une classe Paint sous la classe House.\n",
    "\n",
    "2. Paint doit avoir une méthode __init__ avec les paramètres buckets et color.\n",
    "---"
   ]
  },
  {
   "cell_type": "markdown",
   "metadata": {},
   "source": [
    "## Création des méthodes"
   ]
  },
  {
   "cell_type": "markdown",
   "metadata": {},
   "source": [
    "Explorons tout d'abord quelques exemples des méthodes de classes built-in :"
   ]
  },
  {
   "cell_type": "code",
   "execution_count": 2,
   "metadata": {},
   "outputs": [
    {
     "data": {
      "text/plain": [
       "1"
      ]
     },
     "execution_count": 2,
     "metadata": {},
     "output_type": "execute_result"
    }
   ],
   "source": [
    "\"jeremy\".count('j')"
   ]
  },
  {
   "cell_type": "code",
   "execution_count": 3,
   "metadata": {},
   "outputs": [
    {
     "data": {
      "text/plain": [
       "'Jeremy'"
      ]
     },
     "execution_count": 3,
     "metadata": {},
     "output_type": "execute_result"
    }
   ],
   "source": [
    "\"jeremy\".capitalize()"
   ]
  },
  {
   "cell_type": "markdown",
   "metadata": {},
   "source": [
    "Pour l'instant nous n'avons vu que la méthode `__init__` qui nous permet d'initialiser des variables."
   ]
  },
  {
   "cell_type": "code",
   "execution_count": 4,
   "metadata": {},
   "outputs": [],
   "source": [
    "class Point:\n",
    "    def __init__(self, x, y) :\n",
    "        self.x = x\n",
    "        self.y = y"
   ]
  },
  {
   "cell_type": "markdown",
   "metadata": {},
   "source": [
    "Définission une nouvelle méthode :"
   ]
  },
  {
   "cell_type": "code",
   "execution_count": 47,
   "metadata": {},
   "outputs": [],
   "source": [
    "class Point:\n",
    "    def __init__(self, x, y) :\n",
    "        self.x = x\n",
    "        self.y = y\n",
    "\n",
    "    def falls_in_rectangle(self, lowleft, upright):\n",
    "        # lowleft et upright sont les coordonnées du coin\n",
    "        # en bas à gauche et en haut à droite du rectangle\n",
    "        if lowleft[0] < self.x < upright[0]\\\n",
    "        and lowleft[1] < self.y < upright[1]:\n",
    "            return True\n",
    "        else:\n",
    "            return False"
   ]
  },
  {
   "cell_type": "code",
   "execution_count": 48,
   "metadata": {},
   "outputs": [
    {
     "data": {
      "text/plain": [
       "True"
      ]
     },
     "execution_count": 48,
     "metadata": {},
     "output_type": "execute_result"
    }
   ],
   "source": [
    "point2 = Point(6,7)\n",
    "point2.falls_in_rectangle((5,6), (7,9))"
   ]
  },
  {
   "cell_type": "markdown",
   "metadata": {},
   "source": [
    "La méthode `__init__` vs les méthodes normales :"
   ]
  },
  {
   "cell_type": "code",
   "execution_count": 49,
   "metadata": {},
   "outputs": [],
   "source": [
    "class Point:\n",
    "    def __init__(self, x, y) :\n",
    "        print(\"Bonjour, je suis __init__ !\")\n",
    "        self.x = x\n",
    "        self.y = y\n",
    "\n",
    "    def falls_in_rectangle(self, lowleft, upright):\n",
    "        print(\"Je suis une méthode normale !\")\n",
    "        # lowleft et upright sont les coordonnées du coin\n",
    "        # en bas à gauche et en haut à droite du rectangle\n",
    "        if lowleft[0] < self.x < upright[0]\\\n",
    "        and lowleft[1] < self.y < upright[1]:\n",
    "            return True\n",
    "        else:\n",
    "            return False"
   ]
  },
  {
   "cell_type": "code",
   "execution_count": 50,
   "metadata": {},
   "outputs": [
    {
     "name": "stdout",
     "output_type": "stream",
     "text": [
      "Bonjour, je suis __init__ !\n"
     ]
    }
   ],
   "source": [
    "# On peut noter que dès on initialise une instance on déclenche la méthode __init__\n",
    "point = Point(1,2)"
   ]
  },
  {
   "cell_type": "code",
   "execution_count": 51,
   "metadata": {},
   "outputs": [
    {
     "name": "stdout",
     "output_type": "stream",
     "text": [
      "Je suis une méthode normale !\n"
     ]
    },
    {
     "data": {
      "text/plain": [
       "False"
      ]
     },
     "execution_count": 51,
     "metadata": {},
     "output_type": "execute_result"
    }
   ],
   "source": [
    "# tandis que cette méthode est uniquement utilisée quand on l'appelle \n",
    "point.falls_in_rectangle((1,3), (8,9))"
   ]
  },
  {
   "cell_type": "markdown",
   "metadata": {},
   "source": [
    "Ici on a choisi un nom de méthode, qui nous permet de comprendre très facilement ce que fait la méthode, en lisant `point.falls_in_rectangle`. Par exemple, si on avait choisi un nom comme `point_in_rectangle` ca aurait donné `point.point_in_rectangle`. Cela aurait créé une répétition de point, il faut donc éviter de remettre le nom de l'objet dans le nom de la méthode."
   ]
  },
  {
   "cell_type": "markdown",
   "metadata": {},
   "source": [
    "---\n",
    "## Exo 3\n",
    "\n",
    "Ajouter une méthode \"distance\"\n",
    "\n",
    "Ajoutez une nouvelle méthode \"distance\" à la classe Point. La méthode doit calculer la distance entre les coordonnées du point courant (c'est-à-dire les coordonnées self.x et self.y) et les coordonnées de tout autre point donné, et ces coordonnées peuvent être fournies comme arguments x et y à la méthode distance."
   ]
  },
  {
   "cell_type": "code",
   "execution_count": 74,
   "metadata": {},
   "outputs": [],
   "source": [
    "class Point:\n",
    "    def __init__(self, x, y) :\n",
    "        print(\"Bonjour, je suis __init__ !\")\n",
    "        self.x = x\n",
    "        self.y = y\n",
    "\n",
    "    def falls_in_rectangle(self, lowleft, upright):\n",
    "        print(\"Je suis une méthode normale !\")\n",
    "        # lowleft et upright sont les coordonnées du coin\n",
    "        # en bas à gauche et en haut à droite du rectangle\n",
    "        if lowleft[0] < self.x < upright[0]\\\n",
    "        and lowleft[1] < self.y < upright[1]:\n",
    "            return True\n",
    "        else:\n",
    "            return False\n",
    "        \n",
    "    def distance(self, point):\n",
    "        x = point.x\n",
    "        y = point.y\n",
    "\n",
    "        x_actuel = self.x\n",
    "        y_actuel = self.y\n",
    "\n",
    "        a = x_actuel - x \n",
    "        b = y_actuel - y\n",
    "\n",
    "        distance = (a**2 + b**2)**(1/2)\n",
    "\n",
    "        return distance\n",
    "    "
   ]
  },
  {
   "cell_type": "code",
   "execution_count": 75,
   "metadata": {},
   "outputs": [
    {
     "name": "stdout",
     "output_type": "stream",
     "text": [
      "Bonjour, je suis __init__ !\n",
      "Bonjour, je suis __init__ !\n"
     ]
    },
    {
     "data": {
      "text/plain": [
       "5.0"
      ]
     },
     "execution_count": 75,
     "metadata": {},
     "output_type": "execute_result"
    }
   ],
   "source": [
    "point1 = Point(x=2,y=5)  # self.x = 3 et self.y =4\n",
    "point2 = Point(5,9)\n",
    "point1.distance(point2)"
   ]
  },
  {
   "cell_type": "markdown",
   "metadata": {},
   "source": [
    "---\n",
    "\n",
    "## Exo 4 (Entreprise de peinture) \n",
    "\n",
    "Ajout d'une méthode supplémentaire\n",
    "La classe Paint ne fait pas grand-chose pour l'instant. Ajoutons à la classe Paint une méthode qui calcule le prix des seaux de peinture nécessaires pour peindre la maison.\n",
    "\n",
    "Plus précisément, votre tâche consiste à :\n",
    "\n",
    "1. Créer une méthode prix_total dans la classe Paint. La méthode ne doit avoir qu'un paramètre self.\n",
    "\n",
    "2. La méthode total_price doit calculer et renvoyer le prix total en fonction du nombre de godets pour deux scénarios - lorsque la couleur est \"blanche\" et lorsqu'elle ne l'est pas. Le prix de la peinture blanche est de 1,99 et le prix de la peinture couleur est de 2,19.\n",
    "\n",
    "---"
   ]
  },
  {
   "cell_type": "markdown",
   "metadata": {},
   "source": [
    "## La classe rectangle"
   ]
  },
  {
   "cell_type": "code",
   "execution_count": 63,
   "metadata": {},
   "outputs": [],
   "source": [
    "class Point:\n",
    "    def __init__(self, x, y):\n",
    "        self.x = x\n",
    "        self.y = y\n",
    "\n",
    "    def falls_in_rectangle(self, lowleft, upright):\n",
    "        # lowleft et upright sont les coordonnées du coin\n",
    "        # en bas à gauche et en haut à droite du rectangle\n",
    "        if lowleft[0] < self.x < upright[0]\\\n",
    "                and lowleft[1] < self.y < upright[1]:\n",
    "            return True\n",
    "        else:\n",
    "            return False\n",
    "\n",
    "    def distance_from_point(self, point):\n",
    "        x = point.x\n",
    "        y = point.y\n",
    "        return ((self.x - x)**2 + (self.y - y)**2)**(1/2)\n",
    "\n",
    "class Rectangle:\n",
    "    def __init__(self, lowleft, upright): # Qu'est-ce que lowleft et upright ? Des points !\n",
    "        self.lowleft = lowleft\n",
    "        self.upright = upright"
   ]
  },
  {
   "cell_type": "code",
   "execution_count": 19,
   "metadata": {},
   "outputs": [],
   "source": [
    "# On utilise donc la classe Point pour initialiser la classe Rectangle\n",
    "point_lowleft = Point(6,7)\n",
    "point_upright = Point(10,11)\n",
    "\n",
    "rectanglex = Rectangle(point_lowleft, point_upright)"
   ]
  },
  {
   "cell_type": "markdown",
   "metadata": {},
   "source": [
    "Désormais, on peut metter à jour la méthode falls_in_rectangle afin qu'elle prenne en input un objet rectangle :"
   ]
  },
  {
   "cell_type": "code",
   "execution_count": 23,
   "metadata": {},
   "outputs": [],
   "source": [
    "class Point:\n",
    "    def __init__(self, x, y):\n",
    "        self.x = x\n",
    "        self.y = y\n",
    "\n",
    "    def falls_in_rectangle(self, rectangle):\n",
    "        lowleft = rectangle.lowleft\n",
    "        upright = rectangle.upright\n",
    "        # lowleft et upright sont les coordonnées du coin\n",
    "        # en bas à gauche et en haut à droite du rectangle\n",
    "        if lowleft[0] < self.x < upright[0]\\\n",
    "                and lowleft[1] < self.y < upright[1]:\n",
    "            return True\n",
    "        else:\n",
    "            return False\n",
    "\n",
    "    def distance_from_point(self, point):\n",
    "        x = point.x\n",
    "        y = point.y\n",
    "        return ((self.x - x)**2 + (self.y - y)**2)**(1/2)\n",
    "\n",
    "class Rectangle:\n",
    "\n",
    "    def __init__(self, lowleft, upright): # Qu'est-ce que lowleft et upright ? Des points !\n",
    "        self.lowleft = lowleft\n",
    "        self.upright = upright"
   ]
  },
  {
   "cell_type": "code",
   "execution_count": 24,
   "metadata": {},
   "outputs": [
    {
     "ename": "TypeError",
     "evalue": "'Point' object is not subscriptable",
     "output_type": "error",
     "traceback": [
      "\u001b[0;31m---------------------------------------------------------------------------\u001b[0m",
      "\u001b[0;31mTypeError\u001b[0m                                 Traceback (most recent call last)",
      "\u001b[1;32m/Users/jeremyvangansbeg/Documents/project/oop/1-introduction-oop.ipynb Cell 111\u001b[0m line \u001b[0;36m8\n\u001b[1;32m      <a href='vscode-notebook-cell:/Users/jeremyvangansbeg/Documents/project/oop/1-introduction-oop.ipynb#Y232sZmlsZQ%3D%3D?line=3'>4</a>\u001b[0m rectanglex \u001b[39m=\u001b[39m Rectangle(point_lowleft, point_upright)\n\u001b[1;32m      <a href='vscode-notebook-cell:/Users/jeremyvangansbeg/Documents/project/oop/1-introduction-oop.ipynb#Y232sZmlsZQ%3D%3D?line=5'>6</a>\u001b[0m point_to_test \u001b[39m=\u001b[39m Point(\u001b[39m7\u001b[39m,\u001b[39m8\u001b[39m)\n\u001b[0;32m----> <a href='vscode-notebook-cell:/Users/jeremyvangansbeg/Documents/project/oop/1-introduction-oop.ipynb#Y232sZmlsZQ%3D%3D?line=7'>8</a>\u001b[0m point_to_test\u001b[39m.\u001b[39;49mfalls_in_rectangle(rectanglex)\n",
      "\u001b[1;32m/Users/jeremyvangansbeg/Documents/project/oop/1-introduction-oop.ipynb Cell 111\u001b[0m line \u001b[0;36m1\n\u001b[1;32m      <a href='vscode-notebook-cell:/Users/jeremyvangansbeg/Documents/project/oop/1-introduction-oop.ipynb#Y232sZmlsZQ%3D%3D?line=7'>8</a>\u001b[0m upright \u001b[39m=\u001b[39m rectangle\u001b[39m.\u001b[39mupright\n\u001b[1;32m      <a href='vscode-notebook-cell:/Users/jeremyvangansbeg/Documents/project/oop/1-introduction-oop.ipynb#Y232sZmlsZQ%3D%3D?line=8'>9</a>\u001b[0m \u001b[39m# lowleft et upright sont les coordonnées du coin\u001b[39;00m\n\u001b[1;32m     <a href='vscode-notebook-cell:/Users/jeremyvangansbeg/Documents/project/oop/1-introduction-oop.ipynb#Y232sZmlsZQ%3D%3D?line=9'>10</a>\u001b[0m \u001b[39m# en bas à gauche et en haut à droite du rectangle\u001b[39;00m\n\u001b[0;32m---> <a href='vscode-notebook-cell:/Users/jeremyvangansbeg/Documents/project/oop/1-introduction-oop.ipynb#Y232sZmlsZQ%3D%3D?line=10'>11</a>\u001b[0m \u001b[39mif\u001b[39;00m lowleft[\u001b[39m0\u001b[39;49m] \u001b[39m<\u001b[39m \u001b[39mself\u001b[39m\u001b[39m.\u001b[39mx \u001b[39m<\u001b[39m upright[\u001b[39m0\u001b[39m]\\\n\u001b[1;32m     <a href='vscode-notebook-cell:/Users/jeremyvangansbeg/Documents/project/oop/1-introduction-oop.ipynb#Y232sZmlsZQ%3D%3D?line=11'>12</a>\u001b[0m         \u001b[39mand\u001b[39;00m lowleft[\u001b[39m1\u001b[39m] \u001b[39m<\u001b[39m \u001b[39mself\u001b[39m\u001b[39m.\u001b[39my \u001b[39m<\u001b[39m upright[\u001b[39m1\u001b[39m]:\n\u001b[1;32m     <a href='vscode-notebook-cell:/Users/jeremyvangansbeg/Documents/project/oop/1-introduction-oop.ipynb#Y232sZmlsZQ%3D%3D?line=12'>13</a>\u001b[0m     \u001b[39mreturn\u001b[39;00m \u001b[39mTrue\u001b[39;00m\n\u001b[1;32m     <a href='vscode-notebook-cell:/Users/jeremyvangansbeg/Documents/project/oop/1-introduction-oop.ipynb#Y232sZmlsZQ%3D%3D?line=13'>14</a>\u001b[0m \u001b[39melse\u001b[39;00m:\n",
      "\u001b[0;31mTypeError\u001b[0m: 'Point' object is not subscriptable"
     ]
    }
   ],
   "source": [
    "point_lowleft = Point(6,7)\n",
    "point_upright = Point(10,11)\n",
    "\n",
    "rectanglex = Rectangle(point_lowleft, point_upright)\n",
    "\n",
    "point_to_test = Point(7,8)\n",
    "\n",
    "point_to_test.falls_in_rectangle(rectanglex)"
   ]
  },
  {
   "cell_type": "code",
   "execution_count": 80,
   "metadata": {},
   "outputs": [
    {
     "ename": "TypeError",
     "evalue": "'Point' object is not subscriptable",
     "output_type": "error",
     "traceback": [
      "\u001b[0;31m---------------------------------------------------------------------------\u001b[0m",
      "\u001b[0;31mTypeError\u001b[0m                                 Traceback (most recent call last)",
      "\u001b[1;32m/Users/jeremyvangansbeg/Documents/project/oop/1-introduction.ipynb Cell 113\u001b[0m line \u001b[0;36m3\n\u001b[1;32m      <a href='vscode-notebook-cell:/Users/jeremyvangansbeg/Documents/project/oop/1-introduction.ipynb#Y215sZmlsZQ%3D%3D?line=0'>1</a>\u001b[0m \u001b[39m# la subtilité vient du fait qu'on essaie de lancer cette comande :\u001b[39;00m\n\u001b[1;32m      <a href='vscode-notebook-cell:/Users/jeremyvangansbeg/Documents/project/oop/1-introduction.ipynb#Y215sZmlsZQ%3D%3D?line=1'>2</a>\u001b[0m \u001b[39m# Ici nous avons la même erreur que ci-dessus\u001b[39;00m\n\u001b[0;32m----> <a href='vscode-notebook-cell:/Users/jeremyvangansbeg/Documents/project/oop/1-introduction.ipynb#Y215sZmlsZQ%3D%3D?line=2'>3</a>\u001b[0m Point(\u001b[39m6\u001b[39;49m,\u001b[39m7\u001b[39;49m)[\u001b[39m0\u001b[39;49m]\n",
      "\u001b[0;31mTypeError\u001b[0m: 'Point' object is not subscriptable"
     ]
    }
   ],
   "source": [
    "# la subtilité vient du fait qu'on essaie de lancer cette comande :\n",
    "# Ici nous avons la même erreur que ci-dessus\n",
    "Point(6,7)[0]"
   ]
  },
  {
   "cell_type": "markdown",
   "metadata": {},
   "source": [
    "Si on veut accéder à l'élément 6 de Point(6,7), nous devons utiliser cette syntaxe :"
   ]
  },
  {
   "cell_type": "code",
   "execution_count": 81,
   "metadata": {},
   "outputs": [
    {
     "data": {
      "text/plain": [
       "6"
      ]
     },
     "execution_count": 81,
     "metadata": {},
     "output_type": "execute_result"
    }
   ],
   "source": [
    "Point(6,7).x"
   ]
  },
  {
   "cell_type": "code",
   "execution_count": 28,
   "metadata": {},
   "outputs": [
    {
     "data": {
      "text/plain": [
       "True"
      ]
     },
     "execution_count": 28,
     "metadata": {},
     "output_type": "execute_result"
    }
   ],
   "source": [
    "class Point:\n",
    "    def __init__(self, x, y):\n",
    "        self.x = x\n",
    "        self.y = y\n",
    "\n",
    "    def falls_in_rectangle(self, rectangle):\n",
    "        lowleft = rectangle.lowleft\n",
    "        upright = rectangle.upright\n",
    "        # lowleft et upright sont les coordonnées du coin\n",
    "        # en bas à gauche et en haut à droite du rectangle\n",
    "        if lowleft.x < self.x < upright.x\\\n",
    "                and lowleft.y < self.y < upright.y:\n",
    "            return True\n",
    "        else:\n",
    "            return False\n",
    "\n",
    "    def distance_from_point(self, point):\n",
    "        x = point.x\n",
    "        y = point.y\n",
    "        return ((self.x - x)**2 + (self.y - y)**2)**(1/2)\n",
    "\n",
    "class Rectangle:\n",
    "\n",
    "    def __init__(self, lowleft, upright): # Qu'est-ce que lowleft et upright ? Des points !\n",
    "        self.lowleft = lowleft\n",
    "        self.upright = upright\n",
    "\n",
    "\n",
    "point_lowleft = Point(6,7)\n",
    "point_upright = Point(10,11)\n",
    "\n",
    "rectanglex = Rectangle(point_lowleft, point_upright)\n",
    "\n",
    "point_to_test = Point(7,8)\n",
    "\n",
    "point_to_test.falls_in_rectangle(rectanglex)"
   ]
  },
  {
   "cell_type": "markdown",
   "metadata": {},
   "source": [
    "L'utilité des classes c'est qu'elles sont très modulables. Par exemple, si on veut rajouter une fonctionnalité, il suffit de rajouter une méthode.\n",
    "\n",
    "Exercice : \n",
    "1. Ajouter une méthode `area` à la classe Rectangle qui permet lorsqu'on l'appelle de renvoyer l'aire du rectangle sous la forme d'un float. Et enfin ajouter un print/\n",
    "2. Demande à l'utilisateur de deviner l'aire du rectangle\n",
    "3. Retourner la différence entre la prédiction et l'aire réelle du rectangle.\n",
    "4. Finaliser l'exercice en générant un rectangle aléatoirement (Attention il faudra modifier la logique de certaines fonctions)"
   ]
  },
  {
   "cell_type": "code",
   "execution_count": 2,
   "metadata": {},
   "outputs": [],
   "source": [
    "class Point:\n",
    "    def __init__(self, x, y):\n",
    "        self.x = x\n",
    "        self.y = y\n",
    "\n",
    "    def falls_in_rectangle(self, rectangle):\n",
    "        lowleft = rectangle.lowleft\n",
    "        upright = rectangle.upright\n",
    "        # lowleft et upright sont les coordonnées du coin\n",
    "        # en bas à gauche et en haut à droite du rectangle\n",
    "        if lowleft.x < self.x < upright.x\\\n",
    "                and lowleft.y < self.y < upright.y:\n",
    "            return True\n",
    "        else:\n",
    "            return False\n",
    "\n",
    "    def distance_from_point(self, point):\n",
    "        x = point.x\n",
    "        y = point.y\n",
    "        return ((self.x - x)**2 + (self.y - y)**2)**(1/2)\n",
    "\n",
    "class Rectangle:\n",
    "\n",
    "    def __init__(self, lowleft, upright): # Qu'est-ce que lowleft et upright ? Des points !\n",
    "        self.lowleft = lowleft\n",
    "        self.upright = upright\n",
    "\n",
    "    ## Coder Ici ##"
   ]
  },
  {
   "cell_type": "code",
   "execution_count": null,
   "metadata": {},
   "outputs": [],
   "source": []
  },
  {
   "cell_type": "markdown",
   "metadata": {},
   "source": [
    "Résumé : comment j'aurai abordé ce problème en programmation orientée objet sans détailler toutes les étapes ?\n",
    "1. Définir les objets sur papiers\n",
    "2. Définir les classes dans python et les variables à mettre dans `__init__`\n",
    "3. Définir les méthodes des classes\n",
    "4. Définir une interface utilisateur en CLI (fonction input) et la logique de génération aléatoire de Rectangle (avec la librairie random)"
   ]
  },
  {
   "cell_type": "code",
   "execution_count": null,
   "metadata": {},
   "outputs": [],
   "source": []
  }
 ],
 "metadata": {
  "kernelspec": {
   "display_name": "venv",
   "language": "python",
   "name": "python3"
  },
  "language_info": {
   "codemirror_mode": {
    "name": "ipython",
    "version": 3
   },
   "file_extension": ".py",
   "mimetype": "text/x-python",
   "name": "python",
   "nbconvert_exporter": "python",
   "pygments_lexer": "ipython3",
   "version": "3.11.2"
  },
  "orig_nbformat": 4
 },
 "nbformat": 4,
 "nbformat_minor": 2
}
