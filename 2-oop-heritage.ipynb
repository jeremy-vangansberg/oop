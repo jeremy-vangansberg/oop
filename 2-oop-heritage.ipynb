{
 "cells": [
  {
   "cell_type": "markdown",
   "metadata": {},
   "source": [
    "# Héritage en Python\n",
    "\n",
    "## 1. Introduction à l'héritage de classe\n",
    "   \n",
    "L'héritage est un pilier fondamental de la programmation orientée objet (POO). Il permet à une classe (sous-classe) d'hériter des attributs et des méthodes d'une autre classe (superclasse). Cela signifie que nous pouvons créer une nouvelle classe basée sur une classe existante en héritant de ses attributs et méthodes, tout en ayant la possibilité d'ajouter ou de surcharger certains d'entre eux.\n",
    "\n",
    "\n",
    "Avantages de l'héritage :\n",
    "Réutilisation du code : Cela évite de réécrire le même code et permet de l'utiliser dans différents contextes.\n",
    "Extensibilité : Vous pouvez ajouter de nouvelles fonctionnalités à une classe existante sans la modifier.\n",
    "Organisation : Il est plus facile de gérer et d'organiser le code en regroupant les fonctionnalités communes dans une classe de base."
   ]
  },
  {
   "cell_type": "markdown",
   "metadata": {},
   "source": [
    "Nous allons utiliser le concept d'héritage afin d'ajouter une nouvelle fonctionnalité.\n",
    "\n",
    "Avant ca on va explorer une nouvelle librairie : turtle\n",
    "\n",
    "Démonstration (formateur) turtle.\n",
    "\n",
    "Ensuite reprenons le code précédent. Nous allons ajouter une nouvelle fonctionnalité à notre programme : Dessiner le rectangle et le point à l'aide de turtle"
   ]
  },
  {
   "cell_type": "code",
   "execution_count": 5,
   "metadata": {},
   "outputs": [
    {
     "name": "stdout",
     "output_type": "stream",
     "text": [
      "Rectangle Coordinates:  37 , 376 and 202 , 166\n",
      "Your point was inside rectangle:  False\n"
     ]
    }
   ],
   "source": [
    "from random import randint\n",
    "\n",
    "class Point:\n",
    "\n",
    "    def __init__(self, x, y):\n",
    "        self.x = x\n",
    "        self.y = y\n",
    "\n",
    "    def falls_in_rectangle(self, rectangle):\n",
    "        if rectangle.point1.x < self.x < rectangle.point2.x \\\n",
    "                and rectangle.point1.y < self.y < rectangle.point2.y:\n",
    "            return True\n",
    "        else:\n",
    "            return False\n",
    "\n",
    "\n",
    "class Rectangle:\n",
    "\n",
    "    def __init__(self, point1, point2):\n",
    "        self.point1 = point1\n",
    "        self.point2 = point2\n",
    "\n",
    "\n",
    "# Create rectangle object\n",
    "rectangle = Rectangle(Point(randint(0, 400), randint(0, 400)),\n",
    "                      Point(randint(10, 400), randint(10, 400)))\n",
    "\n",
    "# Print rectangle coordinates\n",
    "print(\"Rectangle Coordinates: \",\n",
    "      rectangle.point1.x, \",\",\n",
    "      rectangle.point1.y, \"and\",\n",
    "      rectangle.point2.x, \",\",\n",
    "      rectangle.point2.y)\n",
    "\n",
    "# Get point and area from user\n",
    "user_point = Point(float(input(\"Guess x: \")), float(input(\"Guess y: \")))\n",
    "\n",
    "# Print out the game result\n",
    "print(\"Your point was inside rectangle: \",\n",
    "      user_point.falls_in_rectangle(rectangle))"
   ]
  },
  {
   "cell_type": "markdown",
   "metadata": {},
   "source": [
    "Dans le code ci-dessus j'ai juste modifié le range de valeur pour que le rectangle ait plus de chance d'être plus grand. Ce qu'on a envie de faire c'est de rajouter une méthode `draw()` à la classe Rectangle. Cependant d'un certains cas ce n'est pas la meilleur pratique. En modifiant la classe Rectangle, on prend le risque de casser le code. Ce qu'on peut faire à la place c'est utiliser le concept d'héritage.\n",
    "\n",
    "Ce que l'on va faire ici, c'est créé une nouvelle classe GraphicalRectangle."
   ]
  },
  {
   "cell_type": "markdown",
   "metadata": {},
   "source": [
    "## 3.  Surcharge approfondie et utilisation avancée du mot-clé super()\n",
    "   \n",
    "Contexte\n",
    "\n",
    "Imaginons que notre classe Vehicule ait une méthode qui calcule la distance qu'un véhicule peut parcourir avec une certaine quantité de carburant. La distance dépendra du rendement du carburant (en km par litre) et de la quantité de carburant donnée.\n",
    "\n",
    "Cependant, pour une VoitureElectrique, cette logique ne s'appliquerait pas directement car elle utilise des batteries et non du carburant. Au lieu de cela, nous utiliserions la capacité de la batterie (en kWh) et le rendement énergétique (en km par kWh).\n",
    "\n",
    "Exemple"
   ]
  },
  {
   "cell_type": "code",
   "execution_count": 1,
   "metadata": {},
   "outputs": [],
   "source": [
    "class Vehicule:\n",
    "    def __init__(self, marque, modele, rendement_carburant):\n",
    "        self.marque = marque\n",
    "        self.modele = modele\n",
    "        self.rendement_carburant = rendement_carburant  # km par litre\n",
    "\n",
    "    def distance_possible(self, quantite_carburant):\n",
    "        distance = self.rendement_carburant * quantite_carburant\n",
    "        return f\"Le {self.marque} {self.modele} peut parcourir {distance} km avec {quantite_carburant} litres.\"\n",
    "\n",
    "class VoitureElectrique(Vehicule):\n",
    "    def __init__(self, marque, modele, rendement_energetique):\n",
    "        super().__init__(marque, modele, None)\n",
    "        self.rendement_energetique = rendement_energetique  # km par kWh\n",
    "\n",
    "    def distance_possible(self, capacite_batterie):\n",
    "        distance = self.rendement_energetique * capacite_batterie\n",
    "        return f\"Le {self.marque} {self.modele} peut parcourir {distance} km avec une charge de batterie de {capacite_batterie} kWh.\""
   ]
  },
  {
   "cell_type": "markdown",
   "metadata": {},
   "source": [
    "Ici, la méthode distance_possible de la classe Vehicule calcule la distance en fonction du rendement du carburant. Mais pour VoitureElectrique, nous avons surchargé cette méthode pour qu'elle calcule la distance en fonction du rendement énergétique.\n",
    "\n",
    "Notez que dans le constructeur de VoitureElectrique, nous utilisons super() pour appeler le constructeur de Vehicule. Cependant, comme une voiture électrique n'a pas de rendement de carburant, nous passons None pour cet argument."
   ]
  },
  {
   "cell_type": "markdown",
   "metadata": {},
   "source": []
  }
 ],
 "metadata": {
  "kernelspec": {
   "display_name": "Python 3",
   "language": "python",
   "name": "python3"
  },
  "language_info": {
   "codemirror_mode": {
    "name": "ipython",
    "version": 3
   },
   "file_extension": ".py",
   "mimetype": "text/x-python",
   "name": "python",
   "nbconvert_exporter": "python",
   "pygments_lexer": "ipython3",
   "version": "3.11.2"
  },
  "orig_nbformat": 4
 },
 "nbformat": 4,
 "nbformat_minor": 2
}
